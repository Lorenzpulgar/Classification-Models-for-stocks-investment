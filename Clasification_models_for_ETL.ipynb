{
  "nbformat": 4,
  "nbformat_minor": 0,
  "metadata": {
    "colab": {
      "provenance": []
    },
    "kernelspec": {
      "name": "python3",
      "display_name": "Python 3"
    },
    "language_info": {
      "name": "python"
    }
  },
  "cells": [
    {
      "cell_type": "code",
      "source": [
        "!pip install yfinance\n",
        "!pip install pandas_datareader"
      ],
      "metadata": {
        "id": "jCxo_Z4gEguO",
        "colab": {
          "base_uri": "https://localhost:8080/"
        },
        "outputId": "82d26808-82ac-4c70-baa8-ac4d0d20a964"
      },
      "execution_count": null,
      "outputs": [
        {
          "output_type": "stream",
          "name": "stdout",
          "text": [
            "Looking in indexes: https://pypi.org/simple, https://us-python.pkg.dev/colab-wheels/public/simple/\n",
            "Requirement already satisfied: yfinance in /usr/local/lib/python3.7/dist-packages (0.1.85)\n",
            "Requirement already satisfied: requests>=2.26 in /usr/local/lib/python3.7/dist-packages (from yfinance) (2.28.1)\n",
            "Requirement already satisfied: multitasking>=0.0.7 in /usr/local/lib/python3.7/dist-packages (from yfinance) (0.0.11)\n",
            "Requirement already satisfied: pandas>=0.24.0 in /usr/local/lib/python3.7/dist-packages (from yfinance) (1.3.5)\n",
            "Requirement already satisfied: lxml>=4.5.1 in /usr/local/lib/python3.7/dist-packages (from yfinance) (4.9.1)\n",
            "Requirement already satisfied: numpy>=1.15 in /usr/local/lib/python3.7/dist-packages (from yfinance) (1.21.6)\n",
            "Requirement already satisfied: appdirs>=1.4.4 in /usr/local/lib/python3.7/dist-packages (from yfinance) (1.4.4)\n",
            "Requirement already satisfied: pytz>=2017.3 in /usr/local/lib/python3.7/dist-packages (from pandas>=0.24.0->yfinance) (2022.6)\n",
            "Requirement already satisfied: python-dateutil>=2.7.3 in /usr/local/lib/python3.7/dist-packages (from pandas>=0.24.0->yfinance) (2.8.2)\n",
            "Requirement already satisfied: six>=1.5 in /usr/local/lib/python3.7/dist-packages (from python-dateutil>=2.7.3->pandas>=0.24.0->yfinance) (1.15.0)\n",
            "Requirement already satisfied: certifi>=2017.4.17 in /usr/local/lib/python3.7/dist-packages (from requests>=2.26->yfinance) (2022.9.24)\n",
            "Requirement already satisfied: idna<4,>=2.5 in /usr/local/lib/python3.7/dist-packages (from requests>=2.26->yfinance) (2.10)\n",
            "Requirement already satisfied: charset-normalizer<3,>=2 in /usr/local/lib/python3.7/dist-packages (from requests>=2.26->yfinance) (2.1.1)\n",
            "Requirement already satisfied: urllib3<1.27,>=1.21.1 in /usr/local/lib/python3.7/dist-packages (from requests>=2.26->yfinance) (1.24.3)\n",
            "Looking in indexes: https://pypi.org/simple, https://us-python.pkg.dev/colab-wheels/public/simple/\n",
            "Requirement already satisfied: pandas_datareader in /usr/local/lib/python3.7/dist-packages (0.9.0)\n",
            "Requirement already satisfied: pandas>=0.23 in /usr/local/lib/python3.7/dist-packages (from pandas_datareader) (1.3.5)\n",
            "Requirement already satisfied: requests>=2.19.0 in /usr/local/lib/python3.7/dist-packages (from pandas_datareader) (2.28.1)\n",
            "Requirement already satisfied: lxml in /usr/local/lib/python3.7/dist-packages (from pandas_datareader) (4.9.1)\n",
            "Requirement already satisfied: pytz>=2017.3 in /usr/local/lib/python3.7/dist-packages (from pandas>=0.23->pandas_datareader) (2022.6)\n",
            "Requirement already satisfied: python-dateutil>=2.7.3 in /usr/local/lib/python3.7/dist-packages (from pandas>=0.23->pandas_datareader) (2.8.2)\n",
            "Requirement already satisfied: numpy>=1.17.3 in /usr/local/lib/python3.7/dist-packages (from pandas>=0.23->pandas_datareader) (1.21.6)\n",
            "Requirement already satisfied: six>=1.5 in /usr/local/lib/python3.7/dist-packages (from python-dateutil>=2.7.3->pandas>=0.23->pandas_datareader) (1.15.0)\n",
            "Requirement already satisfied: idna<4,>=2.5 in /usr/local/lib/python3.7/dist-packages (from requests>=2.19.0->pandas_datareader) (2.10)\n",
            "Requirement already satisfied: urllib3<1.27,>=1.21.1 in /usr/local/lib/python3.7/dist-packages (from requests>=2.19.0->pandas_datareader) (1.24.3)\n",
            "Requirement already satisfied: charset-normalizer<3,>=2 in /usr/local/lib/python3.7/dist-packages (from requests>=2.19.0->pandas_datareader) (2.1.1)\n",
            "Requirement already satisfied: certifi>=2017.4.17 in /usr/local/lib/python3.7/dist-packages (from requests>=2.19.0->pandas_datareader) (2022.9.24)\n"
          ]
        }
      ]
    },
    {
      "cell_type": "markdown",
      "source": [
        "# Importando y leyendo los datos"
      ],
      "metadata": {
        "id": "b7yxJLVSIZde"
      }
    },
    {
      "cell_type": "code",
      "execution_count": null,
      "metadata": {
        "id": "IJVxgGb4tZql"
      },
      "outputs": [],
      "source": [
        "import yfinance as yf\n",
        "import pandas as pd\n",
        "from pandas_datareader import data as pdr\n",
        "from sklearn.preprocessing import LabelEncoder, MinMaxScaler\n",
        "import numpy as np\n",
        "from sklearn.compose import ColumnTransformer\n",
        "from sklearn.pipeline import Pipeline\n",
        "from sklearn.metrics import accuracy_score, classification_report, plot_confusion_matrix, roc_auc_score, plot_roc_curve \n",
        "from sklearn.linear_model import LogisticRegression\n",
        "import matplotlib.pyplot as plt\n",
        "from sklearn.neighbors import KNeighborsClassifier\n",
        "from sklearn.tree import DecisionTreeClassifier\n",
        "from sklearn.model_selection import GridSearchCV\n",
        "from sklearn.ensemble import RandomForestClassifier, BaggingClassifier, AdaBoostClassifier, GradientBoostingClassifier\n",
        "from sklearn.svm import SVC, NuSVC"
      ]
    },
    {
      "cell_type": "code",
      "source": [
        "nasdaq = yf.Ticker(\"^IXIC\")\n",
        "nasdaq = nasdaq.history(period='max')\n",
        "nasdaq"
      ],
      "metadata": {
        "colab": {
          "base_uri": "https://localhost:8080/",
          "height": 455
        },
        "id": "xp-aBOnvEcNv",
        "outputId": "6a7ae450-39f8-46c8-b3f8-f652db88634d"
      },
      "execution_count": null,
      "outputs": [
        {
          "output_type": "execute_result",
          "data": {
            "text/plain": [
              "                                   Open          High           Low  \\\n",
              "Date                                                                  \n",
              "1971-02-05 00:00:00-05:00    100.000000    100.000000    100.000000   \n",
              "1971-02-08 00:00:00-05:00    100.839996    100.839996    100.839996   \n",
              "1971-02-09 00:00:00-05:00    100.760002    100.760002    100.760002   \n",
              "1971-02-10 00:00:00-05:00    100.690002    100.690002    100.690002   \n",
              "1971-02-11 00:00:00-05:00    101.449997    101.449997    101.449997   \n",
              "...                                 ...           ...           ...   \n",
              "2022-11-07 00:00:00-05:00  10516.940430  10587.959961  10428.910156   \n",
              "2022-11-08 00:00:00-05:00  10611.530273  10745.639648  10472.730469   \n",
              "2022-11-09 00:00:00-05:00  10528.450195  10564.969727  10344.009766   \n",
              "2022-11-10 00:00:00-05:00  10869.169922  11119.120117  10779.950195   \n",
              "2022-11-11 00:00:00-05:00  11124.750000  11352.429688  11069.830078   \n",
              "\n",
              "                                  Close      Volume  Dividends  Stock Splits  \n",
              "Date                                                                          \n",
              "1971-02-05 00:00:00-05:00    100.000000           0          0             0  \n",
              "1971-02-08 00:00:00-05:00    100.839996           0          0             0  \n",
              "1971-02-09 00:00:00-05:00    100.760002           0          0             0  \n",
              "1971-02-10 00:00:00-05:00    100.690002           0          0             0  \n",
              "1971-02-11 00:00:00-05:00    101.449997           0          0             0  \n",
              "...                                 ...         ...        ...           ...  \n",
              "2022-11-07 00:00:00-05:00  10564.519531  4456690000          0             0  \n",
              "2022-11-08 00:00:00-05:00  10616.200195  5134500000          0             0  \n",
              "2022-11-09 00:00:00-05:00  10353.169922  4977460000          0             0  \n",
              "2022-11-10 00:00:00-05:00  11114.150391  6433000000          0             0  \n",
              "2022-11-11 00:00:00-05:00  11323.330078  5867750000          0             0  \n",
              "\n",
              "[13058 rows x 7 columns]"
            ],
            "text/html": [
              "\n",
              "  <div id=\"df-3c36f958-e133-4f0f-9a7f-078a3cc57c7f\">\n",
              "    <div class=\"colab-df-container\">\n",
              "      <div>\n",
              "<style scoped>\n",
              "    .dataframe tbody tr th:only-of-type {\n",
              "        vertical-align: middle;\n",
              "    }\n",
              "\n",
              "    .dataframe tbody tr th {\n",
              "        vertical-align: top;\n",
              "    }\n",
              "\n",
              "    .dataframe thead th {\n",
              "        text-align: right;\n",
              "    }\n",
              "</style>\n",
              "<table border=\"1\" class=\"dataframe\">\n",
              "  <thead>\n",
              "    <tr style=\"text-align: right;\">\n",
              "      <th></th>\n",
              "      <th>Open</th>\n",
              "      <th>High</th>\n",
              "      <th>Low</th>\n",
              "      <th>Close</th>\n",
              "      <th>Volume</th>\n",
              "      <th>Dividends</th>\n",
              "      <th>Stock Splits</th>\n",
              "    </tr>\n",
              "    <tr>\n",
              "      <th>Date</th>\n",
              "      <th></th>\n",
              "      <th></th>\n",
              "      <th></th>\n",
              "      <th></th>\n",
              "      <th></th>\n",
              "      <th></th>\n",
              "      <th></th>\n",
              "    </tr>\n",
              "  </thead>\n",
              "  <tbody>\n",
              "    <tr>\n",
              "      <th>1971-02-05 00:00:00-05:00</th>\n",
              "      <td>100.000000</td>\n",
              "      <td>100.000000</td>\n",
              "      <td>100.000000</td>\n",
              "      <td>100.000000</td>\n",
              "      <td>0</td>\n",
              "      <td>0</td>\n",
              "      <td>0</td>\n",
              "    </tr>\n",
              "    <tr>\n",
              "      <th>1971-02-08 00:00:00-05:00</th>\n",
              "      <td>100.839996</td>\n",
              "      <td>100.839996</td>\n",
              "      <td>100.839996</td>\n",
              "      <td>100.839996</td>\n",
              "      <td>0</td>\n",
              "      <td>0</td>\n",
              "      <td>0</td>\n",
              "    </tr>\n",
              "    <tr>\n",
              "      <th>1971-02-09 00:00:00-05:00</th>\n",
              "      <td>100.760002</td>\n",
              "      <td>100.760002</td>\n",
              "      <td>100.760002</td>\n",
              "      <td>100.760002</td>\n",
              "      <td>0</td>\n",
              "      <td>0</td>\n",
              "      <td>0</td>\n",
              "    </tr>\n",
              "    <tr>\n",
              "      <th>1971-02-10 00:00:00-05:00</th>\n",
              "      <td>100.690002</td>\n",
              "      <td>100.690002</td>\n",
              "      <td>100.690002</td>\n",
              "      <td>100.690002</td>\n",
              "      <td>0</td>\n",
              "      <td>0</td>\n",
              "      <td>0</td>\n",
              "    </tr>\n",
              "    <tr>\n",
              "      <th>1971-02-11 00:00:00-05:00</th>\n",
              "      <td>101.449997</td>\n",
              "      <td>101.449997</td>\n",
              "      <td>101.449997</td>\n",
              "      <td>101.449997</td>\n",
              "      <td>0</td>\n",
              "      <td>0</td>\n",
              "      <td>0</td>\n",
              "    </tr>\n",
              "    <tr>\n",
              "      <th>...</th>\n",
              "      <td>...</td>\n",
              "      <td>...</td>\n",
              "      <td>...</td>\n",
              "      <td>...</td>\n",
              "      <td>...</td>\n",
              "      <td>...</td>\n",
              "      <td>...</td>\n",
              "    </tr>\n",
              "    <tr>\n",
              "      <th>2022-11-07 00:00:00-05:00</th>\n",
              "      <td>10516.940430</td>\n",
              "      <td>10587.959961</td>\n",
              "      <td>10428.910156</td>\n",
              "      <td>10564.519531</td>\n",
              "      <td>4456690000</td>\n",
              "      <td>0</td>\n",
              "      <td>0</td>\n",
              "    </tr>\n",
              "    <tr>\n",
              "      <th>2022-11-08 00:00:00-05:00</th>\n",
              "      <td>10611.530273</td>\n",
              "      <td>10745.639648</td>\n",
              "      <td>10472.730469</td>\n",
              "      <td>10616.200195</td>\n",
              "      <td>5134500000</td>\n",
              "      <td>0</td>\n",
              "      <td>0</td>\n",
              "    </tr>\n",
              "    <tr>\n",
              "      <th>2022-11-09 00:00:00-05:00</th>\n",
              "      <td>10528.450195</td>\n",
              "      <td>10564.969727</td>\n",
              "      <td>10344.009766</td>\n",
              "      <td>10353.169922</td>\n",
              "      <td>4977460000</td>\n",
              "      <td>0</td>\n",
              "      <td>0</td>\n",
              "    </tr>\n",
              "    <tr>\n",
              "      <th>2022-11-10 00:00:00-05:00</th>\n",
              "      <td>10869.169922</td>\n",
              "      <td>11119.120117</td>\n",
              "      <td>10779.950195</td>\n",
              "      <td>11114.150391</td>\n",
              "      <td>6433000000</td>\n",
              "      <td>0</td>\n",
              "      <td>0</td>\n",
              "    </tr>\n",
              "    <tr>\n",
              "      <th>2022-11-11 00:00:00-05:00</th>\n",
              "      <td>11124.750000</td>\n",
              "      <td>11352.429688</td>\n",
              "      <td>11069.830078</td>\n",
              "      <td>11323.330078</td>\n",
              "      <td>5867750000</td>\n",
              "      <td>0</td>\n",
              "      <td>0</td>\n",
              "    </tr>\n",
              "  </tbody>\n",
              "</table>\n",
              "<p>13058 rows × 7 columns</p>\n",
              "</div>\n",
              "      <button class=\"colab-df-convert\" onclick=\"convertToInteractive('df-3c36f958-e133-4f0f-9a7f-078a3cc57c7f')\"\n",
              "              title=\"Convert this dataframe to an interactive table.\"\n",
              "              style=\"display:none;\">\n",
              "        \n",
              "  <svg xmlns=\"http://www.w3.org/2000/svg\" height=\"24px\"viewBox=\"0 0 24 24\"\n",
              "       width=\"24px\">\n",
              "    <path d=\"M0 0h24v24H0V0z\" fill=\"none\"/>\n",
              "    <path d=\"M18.56 5.44l.94 2.06.94-2.06 2.06-.94-2.06-.94-.94-2.06-.94 2.06-2.06.94zm-11 1L8.5 8.5l.94-2.06 2.06-.94-2.06-.94L8.5 2.5l-.94 2.06-2.06.94zm10 10l.94 2.06.94-2.06 2.06-.94-2.06-.94-.94-2.06-.94 2.06-2.06.94z\"/><path d=\"M17.41 7.96l-1.37-1.37c-.4-.4-.92-.59-1.43-.59-.52 0-1.04.2-1.43.59L10.3 9.45l-7.72 7.72c-.78.78-.78 2.05 0 2.83L4 21.41c.39.39.9.59 1.41.59.51 0 1.02-.2 1.41-.59l7.78-7.78 2.81-2.81c.8-.78.8-2.07 0-2.86zM5.41 20L4 18.59l7.72-7.72 1.47 1.35L5.41 20z\"/>\n",
              "  </svg>\n",
              "      </button>\n",
              "      \n",
              "  <style>\n",
              "    .colab-df-container {\n",
              "      display:flex;\n",
              "      flex-wrap:wrap;\n",
              "      gap: 12px;\n",
              "    }\n",
              "\n",
              "    .colab-df-convert {\n",
              "      background-color: #E8F0FE;\n",
              "      border: none;\n",
              "      border-radius: 50%;\n",
              "      cursor: pointer;\n",
              "      display: none;\n",
              "      fill: #1967D2;\n",
              "      height: 32px;\n",
              "      padding: 0 0 0 0;\n",
              "      width: 32px;\n",
              "    }\n",
              "\n",
              "    .colab-df-convert:hover {\n",
              "      background-color: #E2EBFA;\n",
              "      box-shadow: 0px 1px 2px rgba(60, 64, 67, 0.3), 0px 1px 3px 1px rgba(60, 64, 67, 0.15);\n",
              "      fill: #174EA6;\n",
              "    }\n",
              "\n",
              "    [theme=dark] .colab-df-convert {\n",
              "      background-color: #3B4455;\n",
              "      fill: #D2E3FC;\n",
              "    }\n",
              "\n",
              "    [theme=dark] .colab-df-convert:hover {\n",
              "      background-color: #434B5C;\n",
              "      box-shadow: 0px 1px 3px 1px rgba(0, 0, 0, 0.15);\n",
              "      filter: drop-shadow(0px 1px 2px rgba(0, 0, 0, 0.3));\n",
              "      fill: #FFFFFF;\n",
              "    }\n",
              "  </style>\n",
              "\n",
              "      <script>\n",
              "        const buttonEl =\n",
              "          document.querySelector('#df-3c36f958-e133-4f0f-9a7f-078a3cc57c7f button.colab-df-convert');\n",
              "        buttonEl.style.display =\n",
              "          google.colab.kernel.accessAllowed ? 'block' : 'none';\n",
              "\n",
              "        async function convertToInteractive(key) {\n",
              "          const element = document.querySelector('#df-3c36f958-e133-4f0f-9a7f-078a3cc57c7f');\n",
              "          const dataTable =\n",
              "            await google.colab.kernel.invokeFunction('convertToInteractive',\n",
              "                                                     [key], {});\n",
              "          if (!dataTable) return;\n",
              "\n",
              "          const docLinkHtml = 'Like what you see? Visit the ' +\n",
              "            '<a target=\"_blank\" href=https://colab.research.google.com/notebooks/data_table.ipynb>data table notebook</a>'\n",
              "            + ' to learn more about interactive tables.';\n",
              "          element.innerHTML = '';\n",
              "          dataTable['output_type'] = 'display_data';\n",
              "          await google.colab.output.renderOutput(dataTable, element);\n",
              "          const docLink = document.createElement('div');\n",
              "          docLink.innerHTML = docLinkHtml;\n",
              "          element.appendChild(docLink);\n",
              "        }\n",
              "      </script>\n",
              "    </div>\n",
              "  </div>\n",
              "  "
            ]
          },
          "metadata": {},
          "execution_count": 29
        }
      ]
    },
    {
      "cell_type": "markdown",
      "source": [
        "**Visualizando y limpiando los datos**"
      ],
      "metadata": {
        "id": "FutM5Y6SLD_I"
      }
    },
    {
      "cell_type": "code",
      "source": [
        "nasdaq.plot.line(y='Close', use_index=True)"
      ],
      "metadata": {
        "colab": {
          "base_uri": "https://localhost:8080/",
          "height": 286
        },
        "id": "QduUTCgyFjxO",
        "outputId": "6bae0032-fd6c-4f03-fcf8-f575ba15af26"
      },
      "execution_count": null,
      "outputs": [
        {
          "output_type": "execute_result",
          "data": {
            "text/plain": [
              "<matplotlib.axes._subplots.AxesSubplot at 0x7f2e618b7d50>"
            ]
          },
          "metadata": {},
          "execution_count": 30
        },
        {
          "output_type": "display_data",
          "data": {
            "text/plain": [
              "<Figure size 432x288 with 1 Axes>"
            ],
            "image/png": "[encoded data removed]"
          },
          "metadata": {
            "needs_background": "light"
          }
        }
      ]
    },
    {
      "cell_type": "code",
      "source": [
        "del nasdaq['Dividends']\n",
        "del nasdaq['Stock Splits']"
      ],
      "metadata": {
        "id": "4xQsZbyMIm1C"
      },
      "execution_count": null,
      "outputs": []
    },
    {
      "cell_type": "markdown",
      "source": [
        "# Añadiendo el etiquetado para el modelo"
      ],
      "metadata": {
        "id": "-k50qooHIhF-"
      }
    },
    {
      "cell_type": "code",
      "source": [
        "nasdaq['Tomorrow'] = nasdaq['Close'].shift(-1)\n",
        "nasdaq"
      ],
      "metadata": {
        "colab": {
          "base_uri": "https://localhost:8080/",
          "height": 455
        },
        "id": "RgQ9ngdxJKE0",
        "outputId": "712c43db-baf4-49e1-ca4c-95d03c2aa6c4"
      },
      "execution_count": null,
      "outputs": [
        {
          "output_type": "execute_result",
          "data": {
            "text/plain": [
              "                                   Open          High           Low  \\\n",
              "Date                                                                  \n",
              "1971-02-05 00:00:00-05:00    100.000000    100.000000    100.000000   \n",
              "1971-02-08 00:00:00-05:00    100.839996    100.839996    100.839996   \n",
              "1971-02-09 00:00:00-05:00    100.760002    100.760002    100.760002   \n",
              "1971-02-10 00:00:00-05:00    100.690002    100.690002    100.690002   \n",
              "1971-02-11 00:00:00-05:00    101.449997    101.449997    101.449997   \n",
              "...                                 ...           ...           ...   \n",
              "2022-11-07 00:00:00-05:00  10516.940430  10587.959961  10428.910156   \n",
              "2022-11-08 00:00:00-05:00  10611.530273  10745.639648  10472.730469   \n",
              "2022-11-09 00:00:00-05:00  10528.450195  10564.969727  10344.009766   \n",
              "2022-11-10 00:00:00-05:00  10869.169922  11119.120117  10779.950195   \n",
              "2022-11-11 00:00:00-05:00  11124.750000  11352.429688  11069.830078   \n",
              "\n",
              "                                  Close      Volume      Tomorrow  \n",
              "Date                                                               \n",
              "1971-02-05 00:00:00-05:00    100.000000           0    100.839996  \n",
              "1971-02-08 00:00:00-05:00    100.839996           0    100.760002  \n",
              "1971-02-09 00:00:00-05:00    100.760002           0    100.690002  \n",
              "1971-02-10 00:00:00-05:00    100.690002           0    101.449997  \n",
              "1971-02-11 00:00:00-05:00    101.449997           0    102.050003  \n",
              "...                                 ...         ...           ...  \n",
              "2022-11-07 00:00:00-05:00  10564.519531  4456690000  10616.200195  \n",
              "2022-11-08 00:00:00-05:00  10616.200195  5134500000  10353.169922  \n",
              "2022-11-09 00:00:00-05:00  10353.169922  4977460000  11114.150391  \n",
              "2022-11-10 00:00:00-05:00  11114.150391  6433000000  11323.330078  \n",
              "2022-11-11 00:00:00-05:00  11323.330078  5867750000           NaN  \n",
              "\n",
              "[13058 rows x 6 columns]"
            ],
            "text/html": [
              "\n",
              "  <div id=\"df-80b05488-dcb1-428e-8230-fd1a1db44483\">\n",
              "    <div class=\"colab-df-container\">\n",
              "      <div>\n",
              "<style scoped>\n",
              "    .dataframe tbody tr th:only-of-type {\n",
              "        vertical-align: middle;\n",
              "    }\n",
              "\n",
              "    .dataframe tbody tr th {\n",
              "        vertical-align: top;\n",
              "    }\n",
              "\n",
              "    .dataframe thead th {\n",
              "        text-align: right;\n",
              "    }\n",
              "</style>\n",
              "<table border=\"1\" class=\"dataframe\">\n",
              "  <thead>\n",
              "    <tr style=\"text-align: right;\">\n",
              "      <th></th>\n",
              "      <th>Open</th>\n",
              "      <th>High</th>\n",
              "      <th>Low</th>\n",
              "      <th>Close</th>\n",
              "      <th>Volume</th>\n",
              "      <th>Tomorrow</th>\n",
              "    </tr>\n",
              "    <tr>\n",
              "      <th>Date</th>\n",
              "      <th></th>\n",
              "      <th></th>\n",
              "      <th></th>\n",
              "      <th></th>\n",
              "      <th></th>\n",
              "      <th></th>\n",
              "    </tr>\n",
              "  </thead>\n",
              "  <tbody>\n",
              "    <tr>\n",
              "      <th>1971-02-05 00:00:00-05:00</th>\n",
              "      <td>100.000000</td>\n",
              "      <td>100.000000</td>\n",
              "      <td>100.000000</td>\n",
              "      <td>100.000000</td>\n",
              "      <td>0</td>\n",
              "      <td>100.839996</td>\n",
              "    </tr>\n",
              "    <tr>\n",
              "      <th>1971-02-08 00:00:00-05:00</th>\n",
              "      <td>100.839996</td>\n",
              "      <td>100.839996</td>\n",
              "      <td>100.839996</td>\n",
              "      <td>100.839996</td>\n",
              "      <td>0</td>\n",
              "      <td>100.760002</td>\n",
              "    </tr>\n",
              "    <tr>\n",
              "      <th>1971-02-09 00:00:00-05:00</th>\n",
              "      <td>100.760002</td>\n",
              "      <td>100.760002</td>\n",
              "      <td>100.760002</td>\n",
              "      <td>100.760002</td>\n",
              "      <td>0</td>\n",
              "      <td>100.690002</td>\n",
              "    </tr>\n",
              "    <tr>\n",
              "      <th>1971-02-10 00:00:00-05:00</th>\n",
              "      <td>100.690002</td>\n",
              "      <td>100.690002</td>\n",
              "      <td>100.690002</td>\n",
              "      <td>100.690002</td>\n",
              "      <td>0</td>\n",
              "      <td>101.449997</td>\n",
              "    </tr>\n",
              "    <tr>\n",
              "      <th>1971-02-11 00:00:00-05:00</th>\n",
              "      <td>101.449997</td>\n",
              "      <td>101.449997</td>\n",
              "      <td>101.449997</td>\n",
              "      <td>101.449997</td>\n",
              "      <td>0</td>\n",
              "      <td>102.050003</td>\n",
              "    </tr>\n",
              "    <tr>\n",
              "      <th>...</th>\n",
              "      <td>...</td>\n",
              "      <td>...</td>\n",
              "      <td>...</td>\n",
              "      <td>...</td>\n",
              "      <td>...</td>\n",
              "      <td>...</td>\n",
              "    </tr>\n",
              "    <tr>\n",
              "      <th>2022-11-07 00:00:00-05:00</th>\n",
              "      <td>10516.940430</td>\n",
              "      <td>10587.959961</td>\n",
              "      <td>10428.910156</td>\n",
              "      <td>10564.519531</td>\n",
              "      <td>4456690000</td>\n",
              "      <td>10616.200195</td>\n",
              "    </tr>\n",
              "    <tr>\n",
              "      <th>2022-11-08 00:00:00-05:00</th>\n",
              "      <td>10611.530273</td>\n",
              "      <td>10745.639648</td>\n",
              "      <td>10472.730469</td>\n",
              "      <td>10616.200195</td>\n",
              "      <td>5134500000</td>\n",
              "      <td>10353.169922</td>\n",
              "    </tr>\n",
              "    <tr>\n",
              "      <th>2022-11-09 00:00:00-05:00</th>\n",
              "      <td>10528.450195</td>\n",
              "      <td>10564.969727</td>\n",
              "      <td>10344.009766</td>\n",
              "      <td>10353.169922</td>\n",
              "      <td>4977460000</td>\n",
              "      <td>11114.150391</td>\n",
              "    </tr>\n",
              "    <tr>\n",
              "      <th>2022-11-10 00:00:00-05:00</th>\n",
              "      <td>10869.169922</td>\n",
              "      <td>11119.120117</td>\n",
              "      <td>10779.950195</td>\n",
              "      <td>11114.150391</td>\n",
              "      <td>6433000000</td>\n",
              "      <td>11323.330078</td>\n",
              "    </tr>\n",
              "    <tr>\n",
              "      <th>2022-11-11 00:00:00-05:00</th>\n",
              "      <td>11124.750000</td>\n",
              "      <td>11352.429688</td>\n",
              "      <td>11069.830078</td>\n",
              "      <td>11323.330078</td>\n",
              "      <td>5867750000</td>\n",
              "      <td>NaN</td>\n",
              "    </tr>\n",
              "  </tbody>\n",
              "</table>\n",
              "<p>13058 rows × 6 columns</p>\n",
              "</div>\n",
              "      <button class=\"colab-df-convert\" onclick=\"convertToInteractive('df-80b05488-dcb1-428e-8230-fd1a1db44483')\"\n",
              "              title=\"Convert this dataframe to an interactive table.\"\n",
              "              style=\"display:none;\">\n",
              "        \n",
              "  <svg xmlns=\"http://www.w3.org/2000/svg\" height=\"24px\"viewBox=\"0 0 24 24\"\n",
              "       width=\"24px\">\n",
              "    <path d=\"M0 0h24v24H0V0z\" fill=\"none\"/>\n",
              "    <path d=\"M18.56 5.44l.94 2.06.94-2.06 2.06-.94-2.06-.94-.94-2.06-.94 2.06-2.06.94zm-11 1L8.5 8.5l.94-2.06 2.06-.94-2.06-.94L8.5 2.5l-.94 2.06-2.06.94zm10 10l.94 2.06.94-2.06 2.06-.94-2.06-.94-.94-2.06-.94 2.06-2.06.94z\"/><path d=\"M17.41 7.96l-1.37-1.37c-.4-.4-.92-.59-1.43-.59-.52 0-1.04.2-1.43.59L10.3 9.45l-7.72 7.72c-.78.78-.78 2.05 0 2.83L4 21.41c.39.39.9.59 1.41.59.51 0 1.02-.2 1.41-.59l7.78-7.78 2.81-2.81c.8-.78.8-2.07 0-2.86zM5.41 20L4 18.59l7.72-7.72 1.47 1.35L5.41 20z\"/>\n",
              "  </svg>\n",
              "      </button>\n",
              "      \n",
              "  <style>\n",
              "    .colab-df-container {\n",
              "      display:flex;\n",
              "      flex-wrap:wrap;\n",
              "      gap: 12px;\n",
              "    }\n",
              "\n",
              "    .colab-df-convert {\n",
              "      background-color: #E8F0FE;\n",
              "      border: none;\n",
              "      border-radius: 50%;\n",
              "      cursor: pointer;\n",
              "      display: none;\n",
              "      fill: #1967D2;\n",
              "      height: 32px;\n",
              "      padding: 0 0 0 0;\n",
              "      width: 32px;\n",
              "    }\n",
              "\n",
              "    .colab-df-convert:hover {\n",
              "      background-color: #E2EBFA;\n",
              "      box-shadow: 0px 1px 2px rgba(60, 64, 67, 0.3), 0px 1px 3px 1px rgba(60, 64, 67, 0.15);\n",
              "      fill: #174EA6;\n",
              "    }\n",
              "\n",
              "    [theme=dark] .colab-df-convert {\n",
              "      background-color: #3B4455;\n",
              "      fill: #D2E3FC;\n",
              "    }\n",
              "\n",
              "    [theme=dark] .colab-df-convert:hover {\n",
              "      background-color: #434B5C;\n",
              "      box-shadow: 0px 1px 3px 1px rgba(0, 0, 0, 0.15);\n",
              "      filter: drop-shadow(0px 1px 2px rgba(0, 0, 0, 0.3));\n",
              "      fill: #FFFFFF;\n",
              "    }\n",
              "  </style>\n",
              "\n",
              "      <script>\n",
              "        const buttonEl =\n",
              "          document.querySelector('#df-80b05488-dcb1-428e-8230-fd1a1db44483 button.colab-df-convert');\n",
              "        buttonEl.style.display =\n",
              "          google.colab.kernel.accessAllowed ? 'block' : 'none';\n",
              "\n",
              "        async function convertToInteractive(key) {\n",
              "          const element = document.querySelector('#df-80b05488-dcb1-428e-8230-fd1a1db44483');\n",
              "          const dataTable =\n",
              "            await google.colab.kernel.invokeFunction('convertToInteractive',\n",
              "                                                     [key], {});\n",
              "          if (!dataTable) return;\n",
              "\n",
              "          const docLinkHtml = 'Like what you see? Visit the ' +\n",
              "            '<a target=\"_blank\" href=https://colab.research.google.com/notebooks/data_table.ipynb>data table notebook</a>'\n",
              "            + ' to learn more about interactive tables.';\n",
              "          element.innerHTML = '';\n",
              "          dataTable['output_type'] = 'display_data';\n",
              "          await google.colab.output.renderOutput(dataTable, element);\n",
              "          const docLink = document.createElement('div');\n",
              "          docLink.innerHTML = docLinkHtml;\n",
              "          element.appendChild(docLink);\n",
              "        }\n",
              "      </script>\n",
              "    </div>\n",
              "  </div>\n",
              "  "
            ]
          },
          "metadata": {},
          "execution_count": 32
        }
      ]
    },
    {
      "cell_type": "code",
      "source": [
        "nasdaq['Value'] = (nasdaq['Tomorrow'] > nasdaq['Close']).astype(int)\n",
        "nasdaq"
      ],
      "metadata": {
        "colab": {
          "base_uri": "https://localhost:8080/",
          "height": 455
        },
        "id": "AZTAAQ5sJon9",
        "outputId": "57ef99dd-d143-4c11-bb79-5fbc3a47a40d"
      },
      "execution_count": null,
      "outputs": [
        {
          "output_type": "execute_result",
          "data": {
            "text/plain": [
              "                                   Open          High           Low  \\\n",
              "Date                                                                  \n",
              "1971-02-05 00:00:00-05:00    100.000000    100.000000    100.000000   \n",
              "1971-02-08 00:00:00-05:00    100.839996    100.839996    100.839996   \n",
              "1971-02-09 00:00:00-05:00    100.760002    100.760002    100.760002   \n",
              "1971-02-10 00:00:00-05:00    100.690002    100.690002    100.690002   \n",
              "1971-02-11 00:00:00-05:00    101.449997    101.449997    101.449997   \n",
              "...                                 ...           ...           ...   \n",
              "2022-11-07 00:00:00-05:00  10516.940430  10587.959961  10428.910156   \n",
              "2022-11-08 00:00:00-05:00  10611.530273  10745.639648  10472.730469   \n",
              "2022-11-09 00:00:00-05:00  10528.450195  10564.969727  10344.009766   \n",
              "2022-11-10 00:00:00-05:00  10869.169922  11119.120117  10779.950195   \n",
              "2022-11-11 00:00:00-05:00  11124.750000  11352.429688  11069.830078   \n",
              "\n",
              "                                  Close      Volume      Tomorrow  Value  \n",
              "Date                                                                      \n",
              "1971-02-05 00:00:00-05:00    100.000000           0    100.839996      1  \n",
              "1971-02-08 00:00:00-05:00    100.839996           0    100.760002      0  \n",
              "1971-02-09 00:00:00-05:00    100.760002           0    100.690002      0  \n",
              "1971-02-10 00:00:00-05:00    100.690002           0    101.449997      1  \n",
              "1971-02-11 00:00:00-05:00    101.449997           0    102.050003      1  \n",
              "...                                 ...         ...           ...    ...  \n",
              "2022-11-07 00:00:00-05:00  10564.519531  4456690000  10616.200195      1  \n",
              "2022-11-08 00:00:00-05:00  10616.200195  5134500000  10353.169922      0  \n",
              "2022-11-09 00:00:00-05:00  10353.169922  4977460000  11114.150391      1  \n",
              "2022-11-10 00:00:00-05:00  11114.150391  6433000000  11323.330078      1  \n",
              "2022-11-11 00:00:00-05:00  11323.330078  5867750000           NaN      0  \n",
              "\n",
              "[13058 rows x 7 columns]"
            ],
            "text/html": [
              "\n",
              "  <div id=\"df-16353330-017a-4045-8235-9394428a45ce\">\n",
              "    <div class=\"colab-df-container\">\n",
              "      <div>\n",
              "<style scoped>\n",
              "    .dataframe tbody tr th:only-of-type {\n",
              "        vertical-align: middle;\n",
              "    }\n",
              "\n",
              "    .dataframe tbody tr th {\n",
              "        vertical-align: top;\n",
              "    }\n",
              "\n",
              "    .dataframe thead th {\n",
              "        text-align: right;\n",
              "    }\n",
              "</style>\n",
              "<table border=\"1\" class=\"dataframe\">\n",
              "  <thead>\n",
              "    <tr style=\"text-align: right;\">\n",
              "      <th></th>\n",
              "      <th>Open</th>\n",
              "      <th>High</th>\n",
              "      <th>Low</th>\n",
              "      <th>Close</th>\n",
              "      <th>Volume</th>\n",
              "      <th>Tomorrow</th>\n",
              "      <th>Value</th>\n",
              "    </tr>\n",
              "    <tr>\n",
              "      <th>Date</th>\n",
              "      <th></th>\n",
              "      <th></th>\n",
              "      <th></th>\n",
              "      <th></th>\n",
              "      <th></th>\n",
              "      <th></th>\n",
              "      <th></th>\n",
              "    </tr>\n",
              "  </thead>\n",
              "  <tbody>\n",
              "    <tr>\n",
              "      <th>1971-02-05 00:00:00-05:00</th>\n",
              "      <td>100.000000</td>\n",
              "      <td>100.000000</td>\n",
              "      <td>100.000000</td>\n",
              "      <td>100.000000</td>\n",
              "      <td>0</td>\n",
              "      <td>100.839996</td>\n",
              "      <td>1</td>\n",
              "    </tr>\n",
              "    <tr>\n",
              "      <th>1971-02-08 00:00:00-05:00</th>\n",
              "      <td>100.839996</td>\n",
              "      <td>100.839996</td>\n",
              "      <td>100.839996</td>\n",
              "      <td>100.839996</td>\n",
              "      <td>0</td>\n",
              "      <td>100.760002</td>\n",
              "      <td>0</td>\n",
              "    </tr>\n",
              "    <tr>\n",
              "      <th>1971-02-09 00:00:00-05:00</th>\n",
              "      <td>100.760002</td>\n",
              "      <td>100.760002</td>\n",
              "      <td>100.760002</td>\n",
              "      <td>100.760002</td>\n",
              "      <td>0</td>\n",
              "      <td>100.690002</td>\n",
              "      <td>0</td>\n",
              "    </tr>\n",
              "    <tr>\n",
              "      <th>1971-02-10 00:00:00-05:00</th>\n",
              "      <td>100.690002</td>\n",
              "      <td>100.690002</td>\n",
              "      <td>100.690002</td>\n",
              "      <td>100.690002</td>\n",
              "      <td>0</td>\n",
              "      <td>101.449997</td>\n",
              "      <td>1</td>\n",
              "    </tr>\n",
              "    <tr>\n",
              "      <th>1971-02-11 00:00:00-05:00</th>\n",
              "      <td>101.449997</td>\n",
              "      <td>101.449997</td>\n",
              "      <td>101.449997</td>\n",
              "      <td>101.449997</td>\n",
              "      <td>0</td>\n",
              "      <td>102.050003</td>\n",
              "      <td>1</td>\n",
              "    </tr>\n",
              "    <tr>\n",
              "      <th>...</th>\n",
              "      <td>...</td>\n",
              "      <td>...</td>\n",
              "      <td>...</td>\n",
              "      <td>...</td>\n",
              "      <td>...</td>\n",
              "      <td>...</td>\n",
              "      <td>...</td>\n",
              "    </tr>\n",
              "    <tr>\n",
              "      <th>2022-11-07 00:00:00-05:00</th>\n",
              "      <td>10516.940430</td>\n",
              "      <td>10587.959961</td>\n",
              "      <td>10428.910156</td>\n",
              "      <td>10564.519531</td>\n",
              "      <td>4456690000</td>\n",
              "      <td>10616.200195</td>\n",
              "      <td>1</td>\n",
              "    </tr>\n",
              "    <tr>\n",
              "      <th>2022-11-08 00:00:00-05:00</th>\n",
              "      <td>10611.530273</td>\n",
              "      <td>10745.639648</td>\n",
              "      <td>10472.730469</td>\n",
              "      <td>10616.200195</td>\n",
              "      <td>5134500000</td>\n",
              "      <td>10353.169922</td>\n",
              "      <td>0</td>\n",
              "    </tr>\n",
              "    <tr>\n",
              "      <th>2022-11-09 00:00:00-05:00</th>\n",
              "      <td>10528.450195</td>\n",
              "      <td>10564.969727</td>\n",
              "      <td>10344.009766</td>\n",
              "      <td>10353.169922</td>\n",
              "      <td>4977460000</td>\n",
              "      <td>11114.150391</td>\n",
              "      <td>1</td>\n",
              "    </tr>\n",
              "    <tr>\n",
              "      <th>2022-11-10 00:00:00-05:00</th>\n",
              "      <td>10869.169922</td>\n",
              "      <td>11119.120117</td>\n",
              "      <td>10779.950195</td>\n",
              "      <td>11114.150391</td>\n",
              "      <td>6433000000</td>\n",
              "      <td>11323.330078</td>\n",
              "      <td>1</td>\n",
              "    </tr>\n",
              "    <tr>\n",
              "      <th>2022-11-11 00:00:00-05:00</th>\n",
              "      <td>11124.750000</td>\n",
              "      <td>11352.429688</td>\n",
              "      <td>11069.830078</td>\n",
              "      <td>11323.330078</td>\n",
              "      <td>5867750000</td>\n",
              "      <td>NaN</td>\n",
              "      <td>0</td>\n",
              "    </tr>\n",
              "  </tbody>\n",
              "</table>\n",
              "<p>13058 rows × 7 columns</p>\n",
              "</div>\n",
              "      <button class=\"colab-df-convert\" onclick=\"convertToInteractive('df-16353330-017a-4045-8235-9394428a45ce')\"\n",
              "              title=\"Convert this dataframe to an interactive table.\"\n",
              "              style=\"display:none;\">\n",
              "        \n",
              "  <svg xmlns=\"http://www.w3.org/2000/svg\" height=\"24px\"viewBox=\"0 0 24 24\"\n",
              "       width=\"24px\">\n",
              "    <path d=\"M0 0h24v24H0V0z\" fill=\"none\"/>\n",
              "    <path d=\"M18.56 5.44l.94 2.06.94-2.06 2.06-.94-2.06-.94-.94-2.06-.94 2.06-2.06.94zm-11 1L8.5 8.5l.94-2.06 2.06-.94-2.06-.94L8.5 2.5l-.94 2.06-2.06.94zm10 10l.94 2.06.94-2.06 2.06-.94-2.06-.94-.94-2.06-.94 2.06-2.06.94z\"/><path d=\"M17.41 7.96l-1.37-1.37c-.4-.4-.92-.59-1.43-.59-.52 0-1.04.2-1.43.59L10.3 9.45l-7.72 7.72c-.78.78-.78 2.05 0 2.83L4 21.41c.39.39.9.59 1.41.59.51 0 1.02-.2 1.41-.59l7.78-7.78 2.81-2.81c.8-.78.8-2.07 0-2.86zM5.41 20L4 18.59l7.72-7.72 1.47 1.35L5.41 20z\"/>\n",
              "  </svg>\n",
              "      </button>\n",
              "      \n",
              "  <style>\n",
              "    .colab-df-container {\n",
              "      display:flex;\n",
              "      flex-wrap:wrap;\n",
              "      gap: 12px;\n",
              "    }\n",
              "\n",
              "    .colab-df-convert {\n",
              "      background-color: #E8F0FE;\n",
              "      border: none;\n",
              "      border-radius: 50%;\n",
              "      cursor: pointer;\n",
              "      display: none;\n",
              "      fill: #1967D2;\n",
              "      height: 32px;\n",
              "      padding: 0 0 0 0;\n",
              "      width: 32px;\n",
              "    }\n",
              "\n",
              "    .colab-df-convert:hover {\n",
              "      background-color: #E2EBFA;\n",
              "      box-shadow: 0px 1px 2px rgba(60, 64, 67, 0.3), 0px 1px 3px 1px rgba(60, 64, 67, 0.15);\n",
              "      fill: #174EA6;\n",
              "    }\n",
              "\n",
              "    [theme=dark] .colab-df-convert {\n",
              "      background-color: #3B4455;\n",
              "      fill: #D2E3FC;\n",
              "    }\n",
              "\n",
              "    [theme=dark] .colab-df-convert:hover {\n",
              "      background-color: #434B5C;\n",
              "      box-shadow: 0px 1px 3px 1px rgba(0, 0, 0, 0.15);\n",
              "      filter: drop-shadow(0px 1px 2px rgba(0, 0, 0, 0.3));\n",
              "      fill: #FFFFFF;\n",
              "    }\n",
              "  </style>\n",
              "\n",
              "      <script>\n",
              "        const buttonEl =\n",
              "          document.querySelector('#df-16353330-017a-4045-8235-9394428a45ce button.colab-df-convert');\n",
              "        buttonEl.style.display =\n",
              "          google.colab.kernel.accessAllowed ? 'block' : 'none';\n",
              "\n",
              "        async function convertToInteractive(key) {\n",
              "          const element = document.querySelector('#df-16353330-017a-4045-8235-9394428a45ce');\n",
              "          const dataTable =\n",
              "            await google.colab.kernel.invokeFunction('convertToInteractive',\n",
              "                                                     [key], {});\n",
              "          if (!dataTable) return;\n",
              "\n",
              "          const docLinkHtml = 'Like what you see? Visit the ' +\n",
              "            '<a target=\"_blank\" href=https://colab.research.google.com/notebooks/data_table.ipynb>data table notebook</a>'\n",
              "            + ' to learn more about interactive tables.';\n",
              "          element.innerHTML = '';\n",
              "          dataTable['output_type'] = 'display_data';\n",
              "          await google.colab.output.renderOutput(dataTable, element);\n",
              "          const docLink = document.createElement('div');\n",
              "          docLink.innerHTML = docLinkHtml;\n",
              "          element.appendChild(docLink);\n",
              "        }\n",
              "      </script>\n",
              "    </div>\n",
              "  </div>\n",
              "  "
            ]
          },
          "metadata": {},
          "execution_count": 33
        }
      ]
    },
    {
      "cell_type": "markdown",
      "source": [
        "# Dividimos y preparamos nuestros datos para aplicar los modelos"
      ],
      "metadata": {
        "id": "y_b0Of4iLUlY"
      }
    },
    {
      "cell_type": "code",
      "source": [
        "# Dividimos nuestros datos\n",
        "train = nasdaq.iloc[:-2600] # Aproximadamente el 80% de los datos\n",
        "test = nasdaq.iloc[-2600:-60] # El restante para test\n",
        "test_final = nasdaq.iloc[-60:] # Sacamos una pequeña parte para probar el modelo final"
      ],
      "metadata": {
        "id": "Jy-wYsW4Ir59"
      },
      "execution_count": null,
      "outputs": []
    },
    {
      "cell_type": "markdown",
      "source": [
        "Creamos una función que nos ayude a dividir la data"
      ],
      "metadata": {
        "id": "nl9hINBkKS9C"
      }
    },
    {
      "cell_type": "code",
      "source": [
        "def split(dataset):\n",
        "    X = dataset.drop(columns=['Value'], axis=1)\n",
        "    y = dataset['Value']\n",
        "    return X, y"
      ],
      "metadata": {
        "id": "3V5tpQXeKOdz"
      },
      "execution_count": null,
      "outputs": []
    },
    {
      "cell_type": "code",
      "source": [
        "X_train, y_train = split(train)\n",
        "X_test, y_test = split(test)\n",
        "X_test_final, y_test_final = split(test_final)"
      ],
      "metadata": {
        "id": "mc89xBmKKXzj"
      },
      "execution_count": null,
      "outputs": []
    },
    {
      "cell_type": "markdown",
      "source": [
        "Como no contamos con datos mixtos (DATASET CUSTOMIZADO). Realizamos una transformación simple. Asi que agregamos la funcion MinMaxScaler, para trabajar con columnas numéricas. Además utilizamos pipeline para aplicar dicha serie de transformaciones seguidas por la aplicación de un estimador."
      ],
      "metadata": {
        "id": "kp7ec4a8igSa"
      }
    },
    {
      "cell_type": "code",
      "source": [
        "# Configurar paso de escala\n",
        "cols = nasdaq.columns[:-1].tolist()\n",
        "num_transformer = Pipeline(steps=[('scaler', MinMaxScaler())])  \n",
        "# el paso de escala en un transformador de columna\n",
        "preprocessor = ColumnTransformer(transformers=[('num', num_transformer, cols)])"
      ],
      "metadata": {
        "id": "xVzUTANbMEIx"
      },
      "execution_count": null,
      "outputs": []
    },
    {
      "cell_type": "code",
      "source": [
        "preprocessor"
      ],
      "metadata": {
        "colab": {
          "base_uri": "https://localhost:8080/"
        },
        "id": "fzgItP1KhQpo",
        "outputId": "3f5d5e16-ea3c-45d5-8073-dd17453b3b69"
      },
      "execution_count": null,
      "outputs": [
        {
          "output_type": "execute_result",
          "data": {
            "text/plain": [
              "ColumnTransformer(transformers=[('num',\n",
              "                                 Pipeline(steps=[('scaler', MinMaxScaler())]),\n",
              "                                 ['Open', 'High', 'Low', 'Close', 'Volume',\n",
              "                                  'Tomorrow'])])"
            ]
          },
          "metadata": {},
          "execution_count": 38
        }
      ]
    },
    {
      "cell_type": "markdown",
      "source": [
        "# Modelamiento \n",
        "Para poder evaluar nuestros modelos vamos a usar las siguientes metricas:\n",
        "\n",
        "*   Reporte de clasificación: Es el visualizador de  resultados, muestra las puntuaciones de las metricas de la matriz de confusión precision, recall, F1, and support scores para cada uno de los modelos\n",
        "\n",
        "*   Matrix de confusión: Es una herramienta que permite visualizar el desempeño de un algoritmo  de aprendizaje supervisado. Cada columna de la matriz representa el número de predicciones de cada clase, mientras que cada fila representa a las instancias en la clase real.\n",
        "\n",
        "Para interpretar correctamente las predicciones realizadas por modelos de clasificación binarios (dos clases) utilizaremos las curvas ROC.\n",
        "\n",
        "*   Curva ROC: Muestra la relación entre la tasa de verdaderos positivos (TPR) y la tasa de falsos positivos (FPR) del modelo. TPR describe la tasa a la que el clasificador predice como “positivo” a las observaciones que son “positivas”.\n",
        "\n",
        "Métrica ROC_AUC (Area Under Curve): Que tan bien funciona el modelo\n",
        "\n",
        "Esta área posee un valor comprendido entre 0,5 y 1, donde 1 representa un valor diagnóstico perfecto y 0,5 es una prueba sin capacidad discriminatoria diagnóstic\n",
        "\n",
        "#TENER EN CUENTA: \n",
        "\n",
        "(ratio de falsos positivos (eje x) con el ratio de falsos negativos (eje y).)\n",
        "Valores pequeños en el eje X indican pocos falsos positivos y muchos verdaderos negativos\n",
        "Valores grandes en el eje Y indican elevados verdaderos positivos y pocos falsos negativos"
      ],
      "metadata": {
        "id": "ZKHlmDa6sklp"
      }
    },
    {
      "cell_type": "markdown",
      "source": [
        "# Metricas de Clasificación (Matriz de confusión)\n",
        "\n",
        "*   Exactitud: Se refiere a lo cerca que está el resultado de una medición del valor verdadero. (VP+VN)/(VP+FP+FN+VN)\n",
        "\n",
        "*   Precisión: La precisión es la relación entre las predicciones correctas y el número total de predicciones correctas previstas. Esto mide la precisión del clasificador a la hora de predecir casos positivos.\n",
        "\n",
        "*   sensibilidad: Que tan sensible es el clasificador para detectar instancias positivas. Esto también se conoce como la tasa verdadera positiva.\n",
        "\n",
        "*   F1: Se utiliza para combinar las medidas de precision y recall (Exactitud) en un sólo valor. Esto es práctico porque hace más fácil el poder comparar el rendimiento combinado de la precisión y la exhaustividad entre varias \n",
        "soluciones.\n",
        "\n",
        "\n",
        "\n"
      ],
      "metadata": {
        "id": "fSAx_Vf6pilx"
      }
    },
    {
      "cell_type": "markdown",
      "source": [
        "Creamos una función de evaluación donde tendremos las metricas para analizar el modelo"
      ],
      "metadata": {
        "id": "SZeY5HF0wdYo"
      }
    },
    {
      "cell_type": "code",
      "source": [
        "def evaluacion(model, X_train, y_train, X_test, y_test):\n",
        "    # Vector de precision\n",
        "    vec_train = []\n",
        "    vec_test = []\n",
        "    # Prediccion \n",
        "    y_train_pred = model.predict(X_train)\n",
        "    y_test_pred = model.predict(X_test)\n",
        "\n",
        "    # Metricas Train\n",
        "    print(\"Train\")\n",
        "    print(f\"accuracy: {accuracy_score(y_train, y_train_pred):.4f}\")\n",
        "    vec_train.append(round(accuracy_score(y_train, y_train_pred),4))\n",
        "\n",
        "    # Metricas Test\n",
        "    print(\"Test\")\n",
        "    print(f\"accuracy: {accuracy_score(y_test, y_test_pred):.4f}\")\n",
        "    vec_test.append(round(accuracy_score(y_test, y_test_pred), 4))\n",
        "    print(\"\\n\")\n",
        "\n",
        "    # Classification Report\n",
        "    print(classification_report(y_test, y_test_pred))\n",
        "\n",
        "    # Confusion Matrix\n",
        "    plot_confusion_matrix(model, X_test, y_test, cmap=plt.cm.Greens, values_format = '.0f')\n",
        "   \n",
        "    # Plot ROC-curve\n",
        "    plot_roc_curve(model, X_test, y_test)\n",
        "    plt.show()\n",
        "    return vec_train, vec_test"
      ],
      "metadata": {
        "id": "0QfXximWxpqD"
      },
      "execution_count": null,
      "outputs": []
    },
    {
      "cell_type": "markdown",
      "source": [
        "## Usamos el modelo de **KNN**"
      ],
      "metadata": {
        "id": "sPTZ5hCRzr_l"
      }
    },
    {
      "cell_type": "markdown",
      "source": [
        "KNN toma un punto, calcula las distancias entre ese punto y cada uno de los puntos del conjunto de entrenamiento y encuentra los k vecinos más cercanos para examinar la etiqueta"
      ],
      "metadata": {
        "id": "c8fFMVhP1d6P"
      }
    },
    {
      "cell_type": "markdown",
      "source": [
        "Primero lo que hacemos es la tranformación de los datos para cada uno de los clasificadores. En este caso utilizamos KNN, Ramdon Forest, Bagging, Adaboost, SVC.\n",
        "\n",
        "Luego hacemos la asignación de los datos para el entrenamiento y la prueba con el metodo fit para cada uno de los modelos.  \n",
        "\n",
        "Finalmente hacemos la evaluación que lo que busca es validar si los datos de entrenamiento y de prueba se adaptan a los modelos utilizado \n",
        "\n",
        "\n",
        "\n",
        "\n"
      ],
      "metadata": {
        "id": "1ghze4KsyefJ"
      }
    },
    {
      "cell_type": "code",
      "source": [
        "knn_clf = Pipeline(steps=[\n",
        "    ('preprocess', preprocessor),\n",
        "    ('classifier', KNeighborsClassifier())])\n",
        "\n",
        "knn_clf.fit(X_train, y_train)\n",
        "\n",
        "knn_result = evaluacion(knn_clf, X_train, y_train, X_test, y_test)\n",
        "knn_result"
      ],
      "metadata": {
        "colab": {
          "base_uri": "https://localhost:8080/",
          "height": 908
        },
        "id": "et2MdSNXzrjA",
        "outputId": "358efded-f493-4f8d-99ba-05c2c9e44ecf"
      },
      "execution_count": null,
      "outputs": [
        {
          "output_type": "stream",
          "name": "stdout",
          "text": [
            "Train\n",
            "accuracy: 0.8489\n",
            "Test\n",
            "accuracy: 0.4976\n",
            "\n",
            "\n",
            "              precision    recall  f1-score   support\n",
            "\n",
            "           0       0.46      0.84      0.60      1118\n",
            "           1       0.65      0.23      0.34      1422\n",
            "\n",
            "    accuracy                           0.50      2540\n",
            "   macro avg       0.55      0.53      0.47      2540\n",
            "weighted avg       0.56      0.50      0.45      2540\n",
            "\n"
          ]
        },
        {
          "output_type": "stream",
          "name": "stderr",
          "text": [
            "/usr/local/lib/python3.7/dist-packages/sklearn/utils/deprecation.py:87: FutureWarning: Function plot_confusion_matrix is deprecated; Function `plot_confusion_matrix` is deprecated in 1.0 and will be removed in 1.2. Use one of the class methods: ConfusionMatrixDisplay.from_predictions or ConfusionMatrixDisplay.from_estimator.\n",
            "  warnings.warn(msg, category=FutureWarning)\n",
            "/usr/local/lib/python3.7/dist-packages/sklearn/utils/deprecation.py:87: FutureWarning: Function plot_roc_curve is deprecated; Function :func:`plot_roc_curve` is deprecated in 1.0 and will be removed in 1.2. Use one of the class methods: :meth:`sklearn.metric.RocCurveDisplay.from_predictions` or :meth:`sklearn.metric.RocCurveDisplay.from_estimator`.\n",
            "  warnings.warn(msg, category=FutureWarning)\n"
          ]
        },
        {
          "output_type": "display_data",
          "data": {
            "text/plain": [
              "<Figure size 432x288 with 2 Axes>"
            ],
            "image/png": "[encoded data removed]"
          },
          "metadata": {
            "needs_background": "light"
          }
        },
        {
          "output_type": "display_data",
          "data": {
            "text/plain": [
              "<Figure size 432x288 with 1 Axes>"
            ],
            "image/png": "[encoded data removed]"
          },
          "metadata": {
            "needs_background": "light"
          }
        },
        {
          "output_type": "execute_result",
          "data": {
            "text/plain": [
              "([0.8489], [0.4976])"
            ]
          },
          "metadata": {},
          "execution_count": 40
        }
      ]
    },
    {
      "cell_type": "markdown",
      "source": [
        "## Usamos el modelo de Random Forest\n",
        "\n"
      ],
      "metadata": {
        "id": "Tvyzw1FS0eZv"
      }
    },
    {
      "cell_type": "markdown",
      "source": [
        "* Pros: maximiza la información en cada paso\n",
        "* Contras: los árboles entrenados en el mismo conjunto de datos generarán exactamente la misma respuesta (falta de aleatoriedad)"
      ],
      "metadata": {
        "id": "lM5VB6NV1nJm"
      }
    },
    {
      "cell_type": "code",
      "source": [
        "rf_clf = Pipeline(steps=[\n",
        "    ('preprocess', preprocessor),\n",
        "    ('classifier', RandomForestClassifier(criterion='entropy', random_state=24))])\n",
        "\n",
        "rf_clf.fit(X_train, y_train)\n",
        "\n",
        "rf_result = evaluacion(rf_clf, X_train, y_train, X_test, y_test)\n",
        "rf_result"
      ],
      "metadata": {
        "colab": {
          "base_uri": "https://localhost:8080/",
          "height": 908
        },
        "id": "bZp8XFMj0eCS",
        "outputId": "7babd9e4-c274-48fc-b60a-92ccf3177130"
      },
      "execution_count": null,
      "outputs": [
        {
          "output_type": "stream",
          "name": "stdout",
          "text": [
            "Train\n",
            "accuracy: 1.0000\n",
            "Test\n",
            "accuracy: 0.4988\n",
            "\n",
            "\n",
            "              precision    recall  f1-score   support\n",
            "\n",
            "           0       0.46      0.86      0.60      1118\n",
            "           1       0.66      0.21      0.32      1422\n",
            "\n",
            "    accuracy                           0.50      2540\n",
            "   macro avg       0.56      0.54      0.46      2540\n",
            "weighted avg       0.57      0.50      0.45      2540\n",
            "\n"
          ]
        },
        {
          "output_type": "stream",
          "name": "stderr",
          "text": [
            "/usr/local/lib/python3.7/dist-packages/sklearn/utils/deprecation.py:87: FutureWarning: Function plot_confusion_matrix is deprecated; Function `plot_confusion_matrix` is deprecated in 1.0 and will be removed in 1.2. Use one of the class methods: ConfusionMatrixDisplay.from_predictions or ConfusionMatrixDisplay.from_estimator.\n",
            "  warnings.warn(msg, category=FutureWarning)\n",
            "/usr/local/lib/python3.7/dist-packages/sklearn/utils/deprecation.py:87: FutureWarning: Function plot_roc_curve is deprecated; Function :func:`plot_roc_curve` is deprecated in 1.0 and will be removed in 1.2. Use one of the class methods: :meth:`sklearn.metric.RocCurveDisplay.from_predictions` or :meth:`sklearn.metric.RocCurveDisplay.from_estimator`.\n",
            "  warnings.warn(msg, category=FutureWarning)\n"
          ]
        },
        {
          "output_type": "display_data",
          "data": {
            "text/plain": [
              "<Figure size 432x288 with 2 Axes>"
            ],
            "image/png": "[encoded data removed]"
          },
          "metadata": {
            "needs_background": "light"
          }
        },
        {
          "output_type": "display_data",
          "data": {
            "text/plain": [
              "<Figure size 432x288 with 1 Axes>"
            ],
            "image/png": "[encoded data removed]"
          },
          "metadata": {
            "needs_background": "light"
          }
        },
        {
          "output_type": "execute_result",
          "data": {
            "text/plain": [
              "([1.0], [0.4988])"
            ]
          },
          "metadata": {},
          "execution_count": 41
        }
      ]
    },
    {
      "cell_type": "markdown",
      "source": [
        "## Usamos el modelo de Bagging"
      ],
      "metadata": {
        "id": "WcPZ5OJc1Nym"
      }
    },
    {
      "cell_type": "markdown",
      "source": [
        "Similar a RF, pero fomenta la diferencia entre árboles.\n",
        "* Pros: obtener una parte de los datos mediante muestreo con reemplazo (aumentar la variabilidad)\n",
        "* Contras: la debilidad potencial afecta a todos los árboles a la vez (la señal falsa puede conducir a una predicción incorrecta)"
      ],
      "metadata": {
        "id": "y1Av9hNg4wjL"
      }
    },
    {
      "cell_type": "code",
      "source": [
        "bag_clf = Pipeline(steps=[\n",
        "    ('preprocess', preprocessor),\n",
        "    ('classifier', BaggingClassifier(DecisionTreeClassifier(criterion='entropy', random_state=24)))])\n",
        "\n",
        "bag_clf.fit(X_train, y_train)\n",
        "\n",
        "bag_result = evaluacion(bag_clf, X_train, y_train, X_test, y_test)\n",
        "bag_result"
      ],
      "metadata": {
        "colab": {
          "base_uri": "https://localhost:8080/",
          "height": 908
        },
        "id": "W780tbz41M1b",
        "outputId": "cf1df423-411a-4084-b465-ee2b0ded2560"
      },
      "execution_count": null,
      "outputs": [
        {
          "output_type": "stream",
          "name": "stdout",
          "text": [
            "Train\n",
            "accuracy: 0.9945\n",
            "Test\n",
            "accuracy: 0.5161\n",
            "\n",
            "\n",
            "              precision    recall  f1-score   support\n",
            "\n",
            "           0       0.47      0.87      0.61      1118\n",
            "           1       0.70      0.24      0.36      1422\n",
            "\n",
            "    accuracy                           0.52      2540\n",
            "   macro avg       0.59      0.55      0.48      2540\n",
            "weighted avg       0.60      0.52      0.47      2540\n",
            "\n"
          ]
        },
        {
          "output_type": "stream",
          "name": "stderr",
          "text": [
            "/usr/local/lib/python3.7/dist-packages/sklearn/utils/deprecation.py:87: FutureWarning: Function plot_confusion_matrix is deprecated; Function `plot_confusion_matrix` is deprecated in 1.0 and will be removed in 1.2. Use one of the class methods: ConfusionMatrixDisplay.from_predictions or ConfusionMatrixDisplay.from_estimator.\n",
            "  warnings.warn(msg, category=FutureWarning)\n",
            "/usr/local/lib/python3.7/dist-packages/sklearn/utils/deprecation.py:87: FutureWarning: Function plot_roc_curve is deprecated; Function :func:`plot_roc_curve` is deprecated in 1.0 and will be removed in 1.2. Use one of the class methods: :meth:`sklearn.metric.RocCurveDisplay.from_predictions` or :meth:`sklearn.metric.RocCurveDisplay.from_estimator`.\n",
            "  warnings.warn(msg, category=FutureWarning)\n"
          ]
        },
        {
          "output_type": "display_data",
          "data": {
            "text/plain": [
              "<Figure size 432x288 with 2 Axes>"
            ],
            "image/png": "[encoded data removed]"
          },
          "metadata": {
            "needs_background": "light"
          }
        },
        {
          "output_type": "display_data",
          "data": {
            "text/plain": [
              "<Figure size 432x288 with 1 Axes>"
            ],
            "image/png": "[encoded data removed]"
          },
          "metadata": {
            "needs_background": "light"
          }
        },
        {
          "output_type": "execute_result",
          "data": {
            "text/plain": [
              "([0.9945], [0.5161])"
            ]
          },
          "metadata": {},
          "execution_count": 42
        }
      ]
    },
    {
      "cell_type": "markdown",
      "source": [
        "## Usamos el modelo de Adaboost"
      ],
      "metadata": {
        "id": "IIC6QPI7BfiM"
      }
    },
    {
      "cell_type": "markdown",
      "source": [
        "Similar a Bagging\n",
        "* Pros: se reduce el peso de la clasificación correcta y aumenta el peso de la clasificación incorrecta\n",
        "* Contras: influir continuamente en la distribución de los datos muestreados para capacitar a cada alumno sucesivo"
      ],
      "metadata": {
        "id": "8dcPs5rIBlaM"
      }
    },
    {
      "cell_type": "code",
      "source": [
        "ada_clf = Pipeline(steps=[\n",
        "    ('preprocess', preprocessor),\n",
        "    ('classifier', AdaBoostClassifier(DecisionTreeClassifier(criterion='entropy', random_state=24)))])\n",
        "\n",
        "ada_clf.fit(X_train, y_train)\n",
        "\n",
        "ada_result = evaluacion(ada_clf, X_train, y_train, X_test, y_test)\n",
        "ada_result"
      ],
      "metadata": {
        "colab": {
          "base_uri": "https://localhost:8080/",
          "height": 908
        },
        "id": "so8ySYvmBb-s",
        "outputId": "7b1b10c0-e2b7-49f0-a72e-b53bce5f5290"
      },
      "execution_count": null,
      "outputs": [
        {
          "output_type": "stream",
          "name": "stdout",
          "text": [
            "Train\n",
            "accuracy: 1.0000\n",
            "Test\n",
            "accuracy: 0.4921\n",
            "\n",
            "\n",
            "              precision    recall  f1-score   support\n",
            "\n",
            "           0       0.46      0.85      0.60      1118\n",
            "           1       0.64      0.21      0.32      1422\n",
            "\n",
            "    accuracy                           0.49      2540\n",
            "   macro avg       0.55      0.53      0.46      2540\n",
            "weighted avg       0.56      0.49      0.44      2540\n",
            "\n"
          ]
        },
        {
          "output_type": "stream",
          "name": "stderr",
          "text": [
            "/usr/local/lib/python3.7/dist-packages/sklearn/utils/deprecation.py:87: FutureWarning: Function plot_confusion_matrix is deprecated; Function `plot_confusion_matrix` is deprecated in 1.0 and will be removed in 1.2. Use one of the class methods: ConfusionMatrixDisplay.from_predictions or ConfusionMatrixDisplay.from_estimator.\n",
            "  warnings.warn(msg, category=FutureWarning)\n",
            "/usr/local/lib/python3.7/dist-packages/sklearn/utils/deprecation.py:87: FutureWarning: Function plot_roc_curve is deprecated; Function :func:`plot_roc_curve` is deprecated in 1.0 and will be removed in 1.2. Use one of the class methods: :meth:`sklearn.metric.RocCurveDisplay.from_predictions` or :meth:`sklearn.metric.RocCurveDisplay.from_estimator`.\n",
            "  warnings.warn(msg, category=FutureWarning)\n"
          ]
        },
        {
          "output_type": "display_data",
          "data": {
            "text/plain": [
              "<Figure size 432x288 with 2 Axes>"
            ],
            "image/png": "[encoded data removed]"
          },
          "metadata": {
            "needs_background": "light"
          }
        },
        {
          "output_type": "display_data",
          "data": {
            "text/plain": [
              "<Figure size 432x288 with 1 Axes>"
            ],
            "image/png": "[encoded data removed]"
          },
          "metadata": {
            "needs_background": "light"
          }
        },
        {
          "output_type": "execute_result",
          "data": {
            "text/plain": [
              "([1.0], [0.4921])"
            ]
          },
          "metadata": {},
          "execution_count": 43
        }
      ]
    },
    {
      "cell_type": "markdown",
      "source": [
        "## Usamos el modelo de SVC"
      ],
      "metadata": {
        "id": "qlYfj0nMOqOs"
      }
    },
    {
      "cell_type": "markdown",
      "source": [
        "Clasificación de vectores de soporte"
      ],
      "metadata": {
        "id": "mUeCyBO3O3nM"
      }
    },
    {
      "cell_type": "code",
      "source": [
        "svc_clf = Pipeline(steps=[\n",
        "    ('preprocess', preprocessor),\n",
        "    ('classifier', SVC(kernel='poly', probability=True, random_state=42))])\n",
        "\n",
        "svc_clf.fit(X_train, y_train)\n",
        "\n",
        "svc_result = evaluacion(svc_clf, X_train, y_train, X_test, y_test)\n",
        "svc_result\n"
      ],
      "metadata": {
        "colab": {
          "base_uri": "https://localhost:8080/",
          "height": 908
        },
        "id": "lRZWZj0OO5Ab",
        "outputId": "9ea9169c-f5b7-463c-f53c-220dbd3f2a1c"
      },
      "execution_count": null,
      "outputs": [
        {
          "output_type": "stream",
          "name": "stdout",
          "text": [
            "Train\n",
            "accuracy: 0.6857\n",
            "Test\n",
            "accuracy: 0.8354\n",
            "\n",
            "\n",
            "              precision    recall  f1-score   support\n",
            "\n",
            "           0       0.73      1.00      0.84      1118\n",
            "           1       1.00      0.71      0.83      1422\n",
            "\n",
            "    accuracy                           0.84      2540\n",
            "   macro avg       0.86      0.85      0.84      2540\n",
            "weighted avg       0.88      0.84      0.83      2540\n",
            "\n"
          ]
        },
        {
          "output_type": "stream",
          "name": "stderr",
          "text": [
            "/usr/local/lib/python3.7/dist-packages/sklearn/utils/deprecation.py:87: FutureWarning: Function plot_confusion_matrix is deprecated; Function `plot_confusion_matrix` is deprecated in 1.0 and will be removed in 1.2. Use one of the class methods: ConfusionMatrixDisplay.from_predictions or ConfusionMatrixDisplay.from_estimator.\n",
            "  warnings.warn(msg, category=FutureWarning)\n",
            "/usr/local/lib/python3.7/dist-packages/sklearn/utils/deprecation.py:87: FutureWarning: Function plot_roc_curve is deprecated; Function :func:`plot_roc_curve` is deprecated in 1.0 and will be removed in 1.2. Use one of the class methods: :meth:`sklearn.metric.RocCurveDisplay.from_predictions` or :meth:`sklearn.metric.RocCurveDisplay.from_estimator`.\n",
            "  warnings.warn(msg, category=FutureWarning)\n"
          ]
        },
        {
          "output_type": "display_data",
          "data": {
            "text/plain": [
              "<Figure size 432x288 with 2 Axes>"
            ],
            "image/png": "[encoded data removed]"
          },
          "metadata": {
            "needs_background": "light"
          }
        },
        {
          "output_type": "display_data",
          "data": {
            "text/plain": [
              "<Figure size 432x288 with 1 Axes>"
            ],
            "image/png": "[encoded data removed]"
          },
          "metadata": {
            "needs_background": "light"
          }
        },
        {
          "output_type": "execute_result",
          "data": {
            "text/plain": [
              "([0.6857], [0.8354])"
            ]
          },
          "metadata": {},
          "execution_count": 44
        }
      ]
    },
    {
      "cell_type": "markdown",
      "source": [
        "\n",
        "> Analizando cada uno de los modelos a traves de las metricas nos damos cuenta que el mejor modelo fue el de maquinas de soporte vectorial SVC\n",
        "\n"
      ],
      "metadata": {
        "id": "Cr0yPT_aQody"
      }
    },
    {
      "cell_type": "markdown",
      "source": [
        "# Evaluación del mejor modelo"
      ],
      "metadata": {
        "id": "_WoQ9oJsMa3U"
      }
    },
    {
      "cell_type": "markdown",
      "source": [
        "Despues de utilizar cada uno de los modelos, pasamos a evaluar cual es el mejor. \n",
        "\n",
        "Creamos un DataFrame (df) que almacene la probabilidad de predicción y los resultados para cada uno de los modelos "
      ],
      "metadata": {
        "id": "AivLkO2H2t3o"
      }
    },
    {
      "cell_type": "code",
      "source": [
        "X_test_final['Tomorrow'] = X_test_final['Tomorrow'].fillna(0)"
      ],
      "metadata": {
        "id": "cZXmO6nD4EBI"
      },
      "execution_count": null,
      "outputs": []
    },
    {
      "cell_type": "code",
      "source": [
        "test_result = pd.DataFrame(columns=['true', 'pred', 'uptrend', 'downtrend'])\n",
        "\n",
        "test_result['true'] = y_test_final\n",
        "test_result['pred'] = svc_clf.predict(X_test_final)\n",
        "test_result['downtrend'] = svc_clf.predict_proba(X_test_final)[:, 0]\n",
        "test_result['uptrend'] = svc_clf.predict_proba(X_test_final)[:, 1]\n",
        "\n",
        "test_result"
      ],
      "metadata": {
        "colab": {
          "base_uri": "https://localhost:8080/",
          "height": 1000
        },
        "id": "06KrW7u0MfTW",
        "outputId": "2ecfe6df-6f88-456c-c97d-a8046c21a5a2"
      },
      "execution_count": null,
      "outputs": [
        {
          "output_type": "execute_result",
          "data": {
            "text/plain": [
              "                           true  pred       uptrend     downtrend\n",
              "Date                                                             \n",
              "2022-08-19 00:00:00-04:00     0     0  1.000000e-07  9.999999e-01\n",
              "2022-08-22 00:00:00-04:00     0     0  1.000000e-07  9.999999e-01\n",
              "2022-08-23 00:00:00-04:00     1     0  1.000000e-07  9.999999e-01\n",
              "2022-08-24 00:00:00-04:00     1     1  1.000000e+00  3.000001e-14\n",
              "2022-08-25 00:00:00-04:00     0     0  1.000000e-07  9.999999e-01\n",
              "2022-08-26 00:00:00-04:00     0     0  1.000000e-07  9.999999e-01\n",
              "2022-08-29 00:00:00-04:00     0     0  1.000000e-07  9.999999e-01\n",
              "2022-08-30 00:00:00-04:00     0     0  1.000000e-07  9.999999e-01\n",
              "2022-08-31 00:00:00-04:00     0     0  1.000000e-07  9.999999e-01\n",
              "2022-09-01 00:00:00-04:00     0     0  1.000000e-07  9.999999e-01\n",
              "2022-09-02 00:00:00-04:00     0     0  1.000000e-07  9.999999e-01\n",
              "2022-09-06 00:00:00-04:00     1     1  1.000000e+00  3.000001e-14\n",
              "2022-09-07 00:00:00-04:00     1     1  1.000000e+00  3.000001e-14\n",
              "2022-09-08 00:00:00-04:00     1     1  1.000000e+00  3.000001e-14\n",
              "2022-09-09 00:00:00-04:00     1     1  1.000000e+00  3.000001e-14\n",
              "2022-09-12 00:00:00-04:00     0     0  1.000000e-07  9.999999e-01\n",
              "2022-09-13 00:00:00-04:00     1     0  5.249997e-04  9.994750e-01\n",
              "2022-09-14 00:00:00-04:00     0     0  1.000000e-07  9.999999e-01\n",
              "2022-09-15 00:00:00-04:00     0     0  1.000000e-07  9.999999e-01\n",
              "2022-09-16 00:00:00-04:00     1     1  1.000000e+00  3.000001e-14\n",
              "2022-09-19 00:00:00-04:00     0     0  1.000000e-07  9.999999e-01\n",
              "2022-09-20 00:00:00-04:00     0     0  1.000000e-07  9.999999e-01\n",
              "2022-09-21 00:00:00-04:00     0     0  1.000000e-07  9.999999e-01\n",
              "2022-09-22 00:00:00-04:00     0     0  1.000000e-07  9.999999e-01\n",
              "2022-09-23 00:00:00-04:00     0     0  1.000000e-07  9.999999e-01\n",
              "2022-09-26 00:00:00-04:00     1     0  1.000000e-07  9.999999e-01\n",
              "2022-09-27 00:00:00-04:00     1     1  1.000000e+00  3.000001e-14\n",
              "2022-09-28 00:00:00-04:00     0     0  1.000000e-07  9.999999e-01\n",
              "2022-09-29 00:00:00-04:00     0     0  1.000000e-07  9.999999e-01\n",
              "2022-09-30 00:00:00-04:00     1     1  1.000000e+00  3.000001e-14\n",
              "2022-10-03 00:00:00-04:00     1     1  1.000000e+00  3.000001e-14\n",
              "2022-10-04 00:00:00-04:00     0     0  1.000000e-07  9.999999e-01\n",
              "2022-10-05 00:00:00-04:00     0     0  1.000000e-07  9.999999e-01\n",
              "2022-10-06 00:00:00-04:00     0     0  1.000000e-07  9.999999e-01\n",
              "2022-10-07 00:00:00-04:00     0     0  1.000000e-07  9.999999e-01\n",
              "2022-10-10 00:00:00-04:00     0     0  1.000000e-07  9.999999e-01\n",
              "2022-10-11 00:00:00-04:00     0     0  1.000000e-07  9.999999e-01\n",
              "2022-10-12 00:00:00-04:00     1     1  1.000000e+00  3.000001e-14\n",
              "2022-10-13 00:00:00-04:00     0     0  1.000000e-07  9.999999e-01\n",
              "2022-10-14 00:00:00-04:00     1     1  1.000000e+00  3.000001e-14\n",
              "2022-10-17 00:00:00-04:00     1     1  1.000000e+00  3.000001e-14\n",
              "2022-10-18 00:00:00-04:00     0     0  1.000000e-07  9.999999e-01\n",
              "2022-10-19 00:00:00-04:00     0     0  1.000000e-07  9.999999e-01\n",
              "2022-10-20 00:00:00-04:00     1     1  1.000000e+00  3.000001e-14\n",
              "2022-10-21 00:00:00-04:00     1     1  1.000000e+00  3.000001e-14\n",
              "2022-10-24 00:00:00-04:00     1     1  1.000000e+00  3.000001e-14\n",
              "2022-10-25 00:00:00-04:00     0     0  1.000000e-07  9.999999e-01\n",
              "2022-10-26 00:00:00-04:00     0     0  1.000000e-07  9.999999e-01\n",
              "2022-10-27 00:00:00-04:00     1     1  1.000000e+00  3.000001e-14\n",
              "2022-10-28 00:00:00-04:00     0     0  1.000000e-07  9.999999e-01\n",
              "2022-10-31 00:00:00-04:00     0     0  1.000000e-07  9.999999e-01\n",
              "2022-11-01 00:00:00-04:00     0     0  1.000000e-07  9.999999e-01\n",
              "2022-11-02 00:00:00-04:00     0     0  1.000000e-07  9.999999e-01\n",
              "2022-11-03 00:00:00-04:00     1     1  1.000000e+00  3.000001e-14\n",
              "2022-11-04 00:00:00-04:00     1     1  1.000000e+00  3.000001e-14\n",
              "2022-11-07 00:00:00-05:00     1     1  1.000000e+00  3.000001e-14\n",
              "2022-11-08 00:00:00-05:00     0     0  1.000000e-07  9.999999e-01\n",
              "2022-11-09 00:00:00-05:00     1     1  1.000000e+00  3.000001e-14\n",
              "2022-11-10 00:00:00-05:00     1     1  1.000000e+00  3.000001e-14\n",
              "2022-11-11 00:00:00-05:00     0     0  1.000000e-07  9.999999e-01"
            ],
            "text/html": [
              "\n",
              "  <div id=\"df-86996a3a-0183-4c02-a6be-2e79f1d93544\">\n",
              "    <div class=\"colab-df-container\">\n",
              "      <div>\n",
              "<style scoped>\n",
              "    .dataframe tbody tr th:only-of-type {\n",
              "        vertical-align: middle;\n",
              "    }\n",
              "\n",
              "    .dataframe tbody tr th {\n",
              "        vertical-align: top;\n",
              "    }\n",
              "\n",
              "    .dataframe thead th {\n",
              "        text-align: right;\n",
              "    }\n",
              "</style>\n",
              "<table border=\"1\" class=\"dataframe\">\n",
              "  <thead>\n",
              "    <tr style=\"text-align: right;\">\n",
              "      <th></th>\n",
              "      <th>true</th>\n",
              "      <th>pred</th>\n",
              "      <th>uptrend</th>\n",
              "      <th>downtrend</th>\n",
              "    </tr>\n",
              "    <tr>\n",
              "      <th>Date</th>\n",
              "      <th></th>\n",
              "      <th></th>\n",
              "      <th></th>\n",
              "      <th></th>\n",
              "    </tr>\n",
              "  </thead>\n",
              "  <tbody>\n",
              "    <tr>\n",
              "      <th>2022-08-19 00:00:00-04:00</th>\n",
              "      <td>0</td>\n",
              "      <td>0</td>\n",
              "      <td>1.000000e-07</td>\n",
              "      <td>9.999999e-01</td>\n",
              "    </tr>\n",
              "    <tr>\n",
              "      <th>2022-08-22 00:00:00-04:00</th>\n",
              "      <td>0</td>\n",
              "      <td>0</td>\n",
              "      <td>1.000000e-07</td>\n",
              "      <td>9.999999e-01</td>\n",
              "    </tr>\n",
              "    <tr>\n",
              "      <th>2022-08-23 00:00:00-04:00</th>\n",
              "      <td>1</td>\n",
              "      <td>0</td>\n",
              "      <td>1.000000e-07</td>\n",
              "      <td>9.999999e-01</td>\n",
              "    </tr>\n",
              "    <tr>\n",
              "      <th>2022-08-24 00:00:00-04:00</th>\n",
              "      <td>1</td>\n",
              "      <td>1</td>\n",
              "      <td>1.000000e+00</td>\n",
              "      <td>3.000001e-14</td>\n",
              "    </tr>\n",
              "    <tr>\n",
              "      <th>2022-08-25 00:00:00-04:00</th>\n",
              "      <td>0</td>\n",
              "      <td>0</td>\n",
              "      <td>1.000000e-07</td>\n",
              "      <td>9.999999e-01</td>\n",
              "    </tr>\n",
              "    <tr>\n",
              "      <th>2022-08-26 00:00:00-04:00</th>\n",
              "      <td>0</td>\n",
              "      <td>0</td>\n",
              "      <td>1.000000e-07</td>\n",
              "      <td>9.999999e-01</td>\n",
              "    </tr>\n",
              "    <tr>\n",
              "      <th>2022-08-29 00:00:00-04:00</th>\n",
              "      <td>0</td>\n",
              "      <td>0</td>\n",
              "      <td>1.000000e-07</td>\n",
              "      <td>9.999999e-01</td>\n",
              "    </tr>\n",
              "    <tr>\n",
              "      <th>2022-08-30 00:00:00-04:00</th>\n",
              "      <td>0</td>\n",
              "      <td>0</td>\n",
              "      <td>1.000000e-07</td>\n",
              "      <td>9.999999e-01</td>\n",
              "    </tr>\n",
              "    <tr>\n",
              "      <th>2022-08-31 00:00:00-04:00</th>\n",
              "      <td>0</td>\n",
              "      <td>0</td>\n",
              "      <td>1.000000e-07</td>\n",
              "      <td>9.999999e-01</td>\n",
              "    </tr>\n",
              "    <tr>\n",
              "      <th>2022-09-01 00:00:00-04:00</th>\n",
              "      <td>0</td>\n",
              "      <td>0</td>\n",
              "      <td>1.000000e-07</td>\n",
              "      <td>9.999999e-01</td>\n",
              "    </tr>\n",
              "    <tr>\n",
              "      <th>2022-09-02 00:00:00-04:00</th>\n",
              "      <td>0</td>\n",
              "      <td>0</td>\n",
              "      <td>1.000000e-07</td>\n",
              "      <td>9.999999e-01</td>\n",
              "    </tr>\n",
              "    <tr>\n",
              "      <th>2022-09-06 00:00:00-04:00</th>\n",
              "      <td>1</td>\n",
              "      <td>1</td>\n",
              "      <td>1.000000e+00</td>\n",
              "      <td>3.000001e-14</td>\n",
              "    </tr>\n",
              "    <tr>\n",
              "      <th>2022-09-07 00:00:00-04:00</th>\n",
              "      <td>1</td>\n",
              "      <td>1</td>\n",
              "      <td>1.000000e+00</td>\n",
              "      <td>3.000001e-14</td>\n",
              "    </tr>\n",
              "    <tr>\n",
              "      <th>2022-09-08 00:00:00-04:00</th>\n",
              "      <td>1</td>\n",
              "      <td>1</td>\n",
              "      <td>1.000000e+00</td>\n",
              "      <td>3.000001e-14</td>\n",
              "    </tr>\n",
              "    <tr>\n",
              "      <th>2022-09-09 00:00:00-04:00</th>\n",
              "      <td>1</td>\n",
              "      <td>1</td>\n",
              "      <td>1.000000e+00</td>\n",
              "      <td>3.000001e-14</td>\n",
              "    </tr>\n",
              "    <tr>\n",
              "      <th>2022-09-12 00:00:00-04:00</th>\n",
              "      <td>0</td>\n",
              "      <td>0</td>\n",
              "      <td>1.000000e-07</td>\n",
              "      <td>9.999999e-01</td>\n",
              "    </tr>\n",
              "    <tr>\n",
              "      <th>2022-09-13 00:00:00-04:00</th>\n",
              "      <td>1</td>\n",
              "      <td>0</td>\n",
              "      <td>5.249997e-04</td>\n",
              "      <td>9.994750e-01</td>\n",
              "    </tr>\n",
              "    <tr>\n",
              "      <th>2022-09-14 00:00:00-04:00</th>\n",
              "      <td>0</td>\n",
              "      <td>0</td>\n",
              "      <td>1.000000e-07</td>\n",
              "      <td>9.999999e-01</td>\n",
              "    </tr>\n",
              "    <tr>\n",
              "      <th>2022-09-15 00:00:00-04:00</th>\n",
              "      <td>0</td>\n",
              "      <td>0</td>\n",
              "      <td>1.000000e-07</td>\n",
              "      <td>9.999999e-01</td>\n",
              "    </tr>\n",
              "    <tr>\n",
              "      <th>2022-09-16 00:00:00-04:00</th>\n",
              "      <td>1</td>\n",
              "      <td>1</td>\n",
              "      <td>1.000000e+00</td>\n",
              "      <td>3.000001e-14</td>\n",
              "    </tr>\n",
              "    <tr>\n",
              "      <th>2022-09-19 00:00:00-04:00</th>\n",
              "      <td>0</td>\n",
              "      <td>0</td>\n",
              "      <td>1.000000e-07</td>\n",
              "      <td>9.999999e-01</td>\n",
              "    </tr>\n",
              "    <tr>\n",
              "      <th>2022-09-20 00:00:00-04:00</th>\n",
              "      <td>0</td>\n",
              "      <td>0</td>\n",
              "      <td>1.000000e-07</td>\n",
              "      <td>9.999999e-01</td>\n",
              "    </tr>\n",
              "    <tr>\n",
              "      <th>2022-09-21 00:00:00-04:00</th>\n",
              "      <td>0</td>\n",
              "      <td>0</td>\n",
              "      <td>1.000000e-07</td>\n",
              "      <td>9.999999e-01</td>\n",
              "    </tr>\n",
              "    <tr>\n",
              "      <th>2022-09-22 00:00:00-04:00</th>\n",
              "      <td>0</td>\n",
              "      <td>0</td>\n",
              "      <td>1.000000e-07</td>\n",
              "      <td>9.999999e-01</td>\n",
              "    </tr>\n",
              "    <tr>\n",
              "      <th>2022-09-23 00:00:00-04:00</th>\n",
              "      <td>0</td>\n",
              "      <td>0</td>\n",
              "      <td>1.000000e-07</td>\n",
              "      <td>9.999999e-01</td>\n",
              "    </tr>\n",
              "    <tr>\n",
              "      <th>2022-09-26 00:00:00-04:00</th>\n",
              "      <td>1</td>\n",
              "      <td>0</td>\n",
              "      <td>1.000000e-07</td>\n",
              "      <td>9.999999e-01</td>\n",
              "    </tr>\n",
              "    <tr>\n",
              "      <th>2022-09-27 00:00:00-04:00</th>\n",
              "      <td>1</td>\n",
              "      <td>1</td>\n",
              "      <td>1.000000e+00</td>\n",
              "      <td>3.000001e-14</td>\n",
              "    </tr>\n",
              "    <tr>\n",
              "      <th>2022-09-28 00:00:00-04:00</th>\n",
              "      <td>0</td>\n",
              "      <td>0</td>\n",
              "      <td>1.000000e-07</td>\n",
              "      <td>9.999999e-01</td>\n",
              "    </tr>\n",
              "    <tr>\n",
              "      <th>2022-09-29 00:00:00-04:00</th>\n",
              "      <td>0</td>\n",
              "      <td>0</td>\n",
              "      <td>1.000000e-07</td>\n",
              "      <td>9.999999e-01</td>\n",
              "    </tr>\n",
              "    <tr>\n",
              "      <th>2022-09-30 00:00:00-04:00</th>\n",
              "      <td>1</td>\n",
              "      <td>1</td>\n",
              "      <td>1.000000e+00</td>\n",
              "      <td>3.000001e-14</td>\n",
              "    </tr>\n",
              "    <tr>\n",
              "      <th>2022-10-03 00:00:00-04:00</th>\n",
              "      <td>1</td>\n",
              "      <td>1</td>\n",
              "      <td>1.000000e+00</td>\n",
              "      <td>3.000001e-14</td>\n",
              "    </tr>\n",
              "    <tr>\n",
              "      <th>2022-10-04 00:00:00-04:00</th>\n",
              "      <td>0</td>\n",
              "      <td>0</td>\n",
              "      <td>1.000000e-07</td>\n",
              "      <td>9.999999e-01</td>\n",
              "    </tr>\n",
              "    <tr>\n",
              "      <th>2022-10-05 00:00:00-04:00</th>\n",
              "      <td>0</td>\n",
              "      <td>0</td>\n",
              "      <td>1.000000e-07</td>\n",
              "      <td>9.999999e-01</td>\n",
              "    </tr>\n",
              "    <tr>\n",
              "      <th>2022-10-06 00:00:00-04:00</th>\n",
              "      <td>0</td>\n",
              "      <td>0</td>\n",
              "      <td>1.000000e-07</td>\n",
              "      <td>9.999999e-01</td>\n",
              "    </tr>\n",
              "    <tr>\n",
              "      <th>2022-10-07 00:00:00-04:00</th>\n",
              "      <td>0</td>\n",
              "      <td>0</td>\n",
              "      <td>1.000000e-07</td>\n",
              "      <td>9.999999e-01</td>\n",
              "    </tr>\n",
              "    <tr>\n",
              "      <th>2022-10-10 00:00:00-04:00</th>\n",
              "      <td>0</td>\n",
              "      <td>0</td>\n",
              "      <td>1.000000e-07</td>\n",
              "      <td>9.999999e-01</td>\n",
              "    </tr>\n",
              "    <tr>\n",
              "      <th>2022-10-11 00:00:00-04:00</th>\n",
              "      <td>0</td>\n",
              "      <td>0</td>\n",
              "      <td>1.000000e-07</td>\n",
              "      <td>9.999999e-01</td>\n",
              "    </tr>\n",
              "    <tr>\n",
              "      <th>2022-10-12 00:00:00-04:00</th>\n",
              "      <td>1</td>\n",
              "      <td>1</td>\n",
              "      <td>1.000000e+00</td>\n",
              "      <td>3.000001e-14</td>\n",
              "    </tr>\n",
              "    <tr>\n",
              "      <th>2022-10-13 00:00:00-04:00</th>\n",
              "      <td>0</td>\n",
              "      <td>0</td>\n",
              "      <td>1.000000e-07</td>\n",
              "      <td>9.999999e-01</td>\n",
              "    </tr>\n",
              "    <tr>\n",
              "      <th>2022-10-14 00:00:00-04:00</th>\n",
              "      <td>1</td>\n",
              "      <td>1</td>\n",
              "      <td>1.000000e+00</td>\n",
              "      <td>3.000001e-14</td>\n",
              "    </tr>\n",
              "    <tr>\n",
              "      <th>2022-10-17 00:00:00-04:00</th>\n",
              "      <td>1</td>\n",
              "      <td>1</td>\n",
              "      <td>1.000000e+00</td>\n",
              "      <td>3.000001e-14</td>\n",
              "    </tr>\n",
              "    <tr>\n",
              "      <th>2022-10-18 00:00:00-04:00</th>\n",
              "      <td>0</td>\n",
              "      <td>0</td>\n",
              "      <td>1.000000e-07</td>\n",
              "      <td>9.999999e-01</td>\n",
              "    </tr>\n",
              "    <tr>\n",
              "      <th>2022-10-19 00:00:00-04:00</th>\n",
              "      <td>0</td>\n",
              "      <td>0</td>\n",
              "      <td>1.000000e-07</td>\n",
              "      <td>9.999999e-01</td>\n",
              "    </tr>\n",
              "    <tr>\n",
              "      <th>2022-10-20 00:00:00-04:00</th>\n",
              "      <td>1</td>\n",
              "      <td>1</td>\n",
              "      <td>1.000000e+00</td>\n",
              "      <td>3.000001e-14</td>\n",
              "    </tr>\n",
              "    <tr>\n",
              "      <th>2022-10-21 00:00:00-04:00</th>\n",
              "      <td>1</td>\n",
              "      <td>1</td>\n",
              "      <td>1.000000e+00</td>\n",
              "      <td>3.000001e-14</td>\n",
              "    </tr>\n",
              "    <tr>\n",
              "      <th>2022-10-24 00:00:00-04:00</th>\n",
              "      <td>1</td>\n",
              "      <td>1</td>\n",
              "      <td>1.000000e+00</td>\n",
              "      <td>3.000001e-14</td>\n",
              "    </tr>\n",
              "    <tr>\n",
              "      <th>2022-10-25 00:00:00-04:00</th>\n",
              "      <td>0</td>\n",
              "      <td>0</td>\n",
              "      <td>1.000000e-07</td>\n",
              "      <td>9.999999e-01</td>\n",
              "    </tr>\n",
              "    <tr>\n",
              "      <th>2022-10-26 00:00:00-04:00</th>\n",
              "      <td>0</td>\n",
              "      <td>0</td>\n",
              "      <td>1.000000e-07</td>\n",
              "      <td>9.999999e-01</td>\n",
              "    </tr>\n",
              "    <tr>\n",
              "      <th>2022-10-27 00:00:00-04:00</th>\n",
              "      <td>1</td>\n",
              "      <td>1</td>\n",
              "      <td>1.000000e+00</td>\n",
              "      <td>3.000001e-14</td>\n",
              "    </tr>\n",
              "    <tr>\n",
              "      <th>2022-10-28 00:00:00-04:00</th>\n",
              "      <td>0</td>\n",
              "      <td>0</td>\n",
              "      <td>1.000000e-07</td>\n",
              "      <td>9.999999e-01</td>\n",
              "    </tr>\n",
              "    <tr>\n",
              "      <th>2022-10-31 00:00:00-04:00</th>\n",
              "      <td>0</td>\n",
              "      <td>0</td>\n",
              "      <td>1.000000e-07</td>\n",
              "      <td>9.999999e-01</td>\n",
              "    </tr>\n",
              "    <tr>\n",
              "      <th>2022-11-01 00:00:00-04:00</th>\n",
              "      <td>0</td>\n",
              "      <td>0</td>\n",
              "      <td>1.000000e-07</td>\n",
              "      <td>9.999999e-01</td>\n",
              "    </tr>\n",
              "    <tr>\n",
              "      <th>2022-11-02 00:00:00-04:00</th>\n",
              "      <td>0</td>\n",
              "      <td>0</td>\n",
              "      <td>1.000000e-07</td>\n",
              "      <td>9.999999e-01</td>\n",
              "    </tr>\n",
              "    <tr>\n",
              "      <th>2022-11-03 00:00:00-04:00</th>\n",
              "      <td>1</td>\n",
              "      <td>1</td>\n",
              "      <td>1.000000e+00</td>\n",
              "      <td>3.000001e-14</td>\n",
              "    </tr>\n",
              "    <tr>\n",
              "      <th>2022-11-04 00:00:00-04:00</th>\n",
              "      <td>1</td>\n",
              "      <td>1</td>\n",
              "      <td>1.000000e+00</td>\n",
              "      <td>3.000001e-14</td>\n",
              "    </tr>\n",
              "    <tr>\n",
              "      <th>2022-11-07 00:00:00-05:00</th>\n",
              "      <td>1</td>\n",
              "      <td>1</td>\n",
              "      <td>1.000000e+00</td>\n",
              "      <td>3.000001e-14</td>\n",
              "    </tr>\n",
              "    <tr>\n",
              "      <th>2022-11-08 00:00:00-05:00</th>\n",
              "      <td>0</td>\n",
              "      <td>0</td>\n",
              "      <td>1.000000e-07</td>\n",
              "      <td>9.999999e-01</td>\n",
              "    </tr>\n",
              "    <tr>\n",
              "      <th>2022-11-09 00:00:00-05:00</th>\n",
              "      <td>1</td>\n",
              "      <td>1</td>\n",
              "      <td>1.000000e+00</td>\n",
              "      <td>3.000001e-14</td>\n",
              "    </tr>\n",
              "    <tr>\n",
              "      <th>2022-11-10 00:00:00-05:00</th>\n",
              "      <td>1</td>\n",
              "      <td>1</td>\n",
              "      <td>1.000000e+00</td>\n",
              "      <td>3.000001e-14</td>\n",
              "    </tr>\n",
              "    <tr>\n",
              "      <th>2022-11-11 00:00:00-05:00</th>\n",
              "      <td>0</td>\n",
              "      <td>0</td>\n",
              "      <td>1.000000e-07</td>\n",
              "      <td>9.999999e-01</td>\n",
              "    </tr>\n",
              "  </tbody>\n",
              "</table>\n",
              "</div>\n",
              "      <button class=\"colab-df-convert\" onclick=\"convertToInteractive('df-86996a3a-0183-4c02-a6be-2e79f1d93544')\"\n",
              "              title=\"Convert this dataframe to an interactive table.\"\n",
              "              style=\"display:none;\">\n",
              "        \n",
              "  <svg xmlns=\"http://www.w3.org/2000/svg\" height=\"24px\"viewBox=\"0 0 24 24\"\n",
              "       width=\"24px\">\n",
              "    <path d=\"M0 0h24v24H0V0z\" fill=\"none\"/>\n",
              "    <path d=\"M18.56 5.44l.94 2.06.94-2.06 2.06-.94-2.06-.94-.94-2.06-.94 2.06-2.06.94zm-11 1L8.5 8.5l.94-2.06 2.06-.94-2.06-.94L8.5 2.5l-.94 2.06-2.06.94zm10 10l.94 2.06.94-2.06 2.06-.94-2.06-.94-.94-2.06-.94 2.06-2.06.94z\"/><path d=\"M17.41 7.96l-1.37-1.37c-.4-.4-.92-.59-1.43-.59-.52 0-1.04.2-1.43.59L10.3 9.45l-7.72 7.72c-.78.78-.78 2.05 0 2.83L4 21.41c.39.39.9.59 1.41.59.51 0 1.02-.2 1.41-.59l7.78-7.78 2.81-2.81c.8-.78.8-2.07 0-2.86zM5.41 20L4 18.59l7.72-7.72 1.47 1.35L5.41 20z\"/>\n",
              "  </svg>\n",
              "      </button>\n",
              "      \n",
              "  <style>\n",
              "    .colab-df-container {\n",
              "      display:flex;\n",
              "      flex-wrap:wrap;\n",
              "      gap: 12px;\n",
              "    }\n",
              "\n",
              "    .colab-df-convert {\n",
              "      background-color: #E8F0FE;\n",
              "      border: none;\n",
              "      border-radius: 50%;\n",
              "      cursor: pointer;\n",
              "      display: none;\n",
              "      fill: #1967D2;\n",
              "      height: 32px;\n",
              "      padding: 0 0 0 0;\n",
              "      width: 32px;\n",
              "    }\n",
              "\n",
              "    .colab-df-convert:hover {\n",
              "      background-color: #E2EBFA;\n",
              "      box-shadow: 0px 1px 2px rgba(60, 64, 67, 0.3), 0px 1px 3px 1px rgba(60, 64, 67, 0.15);\n",
              "      fill: #174EA6;\n",
              "    }\n",
              "\n",
              "    [theme=dark] .colab-df-convert {\n",
              "      background-color: #3B4455;\n",
              "      fill: #D2E3FC;\n",
              "    }\n",
              "\n",
              "    [theme=dark] .colab-df-convert:hover {\n",
              "      background-color: #434B5C;\n",
              "      box-shadow: 0px 1px 3px 1px rgba(0, 0, 0, 0.15);\n",
              "      filter: drop-shadow(0px 1px 2px rgba(0, 0, 0, 0.3));\n",
              "      fill: #FFFFFF;\n",
              "    }\n",
              "  </style>\n",
              "\n",
              "      <script>\n",
              "        const buttonEl =\n",
              "          document.querySelector('#df-86996a3a-0183-4c02-a6be-2e79f1d93544 button.colab-df-convert');\n",
              "        buttonEl.style.display =\n",
              "          google.colab.kernel.accessAllowed ? 'block' : 'none';\n",
              "\n",
              "        async function convertToInteractive(key) {\n",
              "          const element = document.querySelector('#df-86996a3a-0183-4c02-a6be-2e79f1d93544');\n",
              "          const dataTable =\n",
              "            await google.colab.kernel.invokeFunction('convertToInteractive',\n",
              "                                                     [key], {});\n",
              "          if (!dataTable) return;\n",
              "\n",
              "          const docLinkHtml = 'Like what you see? Visit the ' +\n",
              "            '<a target=\"_blank\" href=https://colab.research.google.com/notebooks/data_table.ipynb>data table notebook</a>'\n",
              "            + ' to learn more about interactive tables.';\n",
              "          element.innerHTML = '';\n",
              "          dataTable['output_type'] = 'display_data';\n",
              "          await google.colab.output.renderOutput(dataTable, element);\n",
              "          const docLink = document.createElement('div');\n",
              "          docLink.innerHTML = docLinkHtml;\n",
              "          element.appendChild(docLink);\n",
              "        }\n",
              "      </script>\n",
              "    </div>\n",
              "  </div>\n",
              "  "
            ]
          },
          "metadata": {},
          "execution_count": 46
        }
      ]
    },
    {
      "cell_type": "markdown",
      "source": [
        "Luego hallamos las predicciones incorrectas\n"
      ],
      "metadata": {
        "id": "hcpYG8ka4Bo1"
      }
    },
    {
      "cell_type": "code",
      "source": [
        "test_result.loc[test_result['true'] != test_result['pred']]"
      ],
      "metadata": {
        "colab": {
          "base_uri": "https://localhost:8080/",
          "height": 175
        },
        "id": "j4ayuW8sTUFn",
        "outputId": "11aeb2be-49b1-4629-9792-d4e06e0f253e"
      },
      "execution_count": null,
      "outputs": [
        {
          "output_type": "execute_result",
          "data": {
            "text/plain": [
              "                           true  pred       uptrend  downtrend\n",
              "Date                                                          \n",
              "2022-08-23 00:00:00-04:00     1     0  1.000000e-07   1.000000\n",
              "2022-09-13 00:00:00-04:00     1     0  5.249997e-04   0.999475\n",
              "2022-09-26 00:00:00-04:00     1     0  1.000000e-07   1.000000"
            ],
            "text/html": [
              "\n",
              "  <div id=\"df-f6e72b59-0593-4633-aa4b-37f6a1274538\">\n",
              "    <div class=\"colab-df-container\">\n",
              "      <div>\n",
              "<style scoped>\n",
              "    .dataframe tbody tr th:only-of-type {\n",
              "        vertical-align: middle;\n",
              "    }\n",
              "\n",
              "    .dataframe tbody tr th {\n",
              "        vertical-align: top;\n",
              "    }\n",
              "\n",
              "    .dataframe thead th {\n",
              "        text-align: right;\n",
              "    }\n",
              "</style>\n",
              "<table border=\"1\" class=\"dataframe\">\n",
              "  <thead>\n",
              "    <tr style=\"text-align: right;\">\n",
              "      <th></th>\n",
              "      <th>true</th>\n",
              "      <th>pred</th>\n",
              "      <th>uptrend</th>\n",
              "      <th>downtrend</th>\n",
              "    </tr>\n",
              "    <tr>\n",
              "      <th>Date</th>\n",
              "      <th></th>\n",
              "      <th></th>\n",
              "      <th></th>\n",
              "      <th></th>\n",
              "    </tr>\n",
              "  </thead>\n",
              "  <tbody>\n",
              "    <tr>\n",
              "      <th>2022-08-23 00:00:00-04:00</th>\n",
              "      <td>1</td>\n",
              "      <td>0</td>\n",
              "      <td>1.000000e-07</td>\n",
              "      <td>1.000000</td>\n",
              "    </tr>\n",
              "    <tr>\n",
              "      <th>2022-09-13 00:00:00-04:00</th>\n",
              "      <td>1</td>\n",
              "      <td>0</td>\n",
              "      <td>5.249997e-04</td>\n",
              "      <td>0.999475</td>\n",
              "    </tr>\n",
              "    <tr>\n",
              "      <th>2022-09-26 00:00:00-04:00</th>\n",
              "      <td>1</td>\n",
              "      <td>0</td>\n",
              "      <td>1.000000e-07</td>\n",
              "      <td>1.000000</td>\n",
              "    </tr>\n",
              "  </tbody>\n",
              "</table>\n",
              "</div>\n",
              "      <button class=\"colab-df-convert\" onclick=\"convertToInteractive('df-f6e72b59-0593-4633-aa4b-37f6a1274538')\"\n",
              "              title=\"Convert this dataframe to an interactive table.\"\n",
              "              style=\"display:none;\">\n",
              "        \n",
              "  <svg xmlns=\"http://www.w3.org/2000/svg\" height=\"24px\"viewBox=\"0 0 24 24\"\n",
              "       width=\"24px\">\n",
              "    <path d=\"M0 0h24v24H0V0z\" fill=\"none\"/>\n",
              "    <path d=\"M18.56 5.44l.94 2.06.94-2.06 2.06-.94-2.06-.94-.94-2.06-.94 2.06-2.06.94zm-11 1L8.5 8.5l.94-2.06 2.06-.94-2.06-.94L8.5 2.5l-.94 2.06-2.06.94zm10 10l.94 2.06.94-2.06 2.06-.94-2.06-.94-.94-2.06-.94 2.06-2.06.94z\"/><path d=\"M17.41 7.96l-1.37-1.37c-.4-.4-.92-.59-1.43-.59-.52 0-1.04.2-1.43.59L10.3 9.45l-7.72 7.72c-.78.78-.78 2.05 0 2.83L4 21.41c.39.39.9.59 1.41.59.51 0 1.02-.2 1.41-.59l7.78-7.78 2.81-2.81c.8-.78.8-2.07 0-2.86zM5.41 20L4 18.59l7.72-7.72 1.47 1.35L5.41 20z\"/>\n",
              "  </svg>\n",
              "      </button>\n",
              "      \n",
              "  <style>\n",
              "    .colab-df-container {\n",
              "      display:flex;\n",
              "      flex-wrap:wrap;\n",
              "      gap: 12px;\n",
              "    }\n",
              "\n",
              "    .colab-df-convert {\n",
              "      background-color: #E8F0FE;\n",
              "      border: none;\n",
              "      border-radius: 50%;\n",
              "      cursor: pointer;\n",
              "      display: none;\n",
              "      fill: #1967D2;\n",
              "      height: 32px;\n",
              "      padding: 0 0 0 0;\n",
              "      width: 32px;\n",
              "    }\n",
              "\n",
              "    .colab-df-convert:hover {\n",
              "      background-color: #E2EBFA;\n",
              "      box-shadow: 0px 1px 2px rgba(60, 64, 67, 0.3), 0px 1px 3px 1px rgba(60, 64, 67, 0.15);\n",
              "      fill: #174EA6;\n",
              "    }\n",
              "\n",
              "    [theme=dark] .colab-df-convert {\n",
              "      background-color: #3B4455;\n",
              "      fill: #D2E3FC;\n",
              "    }\n",
              "\n",
              "    [theme=dark] .colab-df-convert:hover {\n",
              "      background-color: #434B5C;\n",
              "      box-shadow: 0px 1px 3px 1px rgba(0, 0, 0, 0.15);\n",
              "      filter: drop-shadow(0px 1px 2px rgba(0, 0, 0, 0.3));\n",
              "      fill: #FFFFFF;\n",
              "    }\n",
              "  </style>\n",
              "\n",
              "      <script>\n",
              "        const buttonEl =\n",
              "          document.querySelector('#df-f6e72b59-0593-4633-aa4b-37f6a1274538 button.colab-df-convert');\n",
              "        buttonEl.style.display =\n",
              "          google.colab.kernel.accessAllowed ? 'block' : 'none';\n",
              "\n",
              "        async function convertToInteractive(key) {\n",
              "          const element = document.querySelector('#df-f6e72b59-0593-4633-aa4b-37f6a1274538');\n",
              "          const dataTable =\n",
              "            await google.colab.kernel.invokeFunction('convertToInteractive',\n",
              "                                                     [key], {});\n",
              "          if (!dataTable) return;\n",
              "\n",
              "          const docLinkHtml = 'Like what you see? Visit the ' +\n",
              "            '<a target=\"_blank\" href=https://colab.research.google.com/notebooks/data_table.ipynb>data table notebook</a>'\n",
              "            + ' to learn more about interactive tables.';\n",
              "          element.innerHTML = '';\n",
              "          dataTable['output_type'] = 'display_data';\n",
              "          await google.colab.output.renderOutput(dataTable, element);\n",
              "          const docLink = document.createElement('div');\n",
              "          docLink.innerHTML = docLinkHtml;\n",
              "          element.appendChild(docLink);\n",
              "        }\n",
              "      </script>\n",
              "    </div>\n",
              "  </div>\n",
              "  "
            ]
          },
          "metadata": {},
          "execution_count": 47
        }
      ]
    },
    {
      "cell_type": "markdown",
      "source": [
        "Posteriormente creamos dos DataFrame más los cuales contienen las predicciones correctas y las predicciones incorrectas"
      ],
      "metadata": {
        "id": "YbWbPZvR4YyB"
      }
    },
    {
      "cell_type": "code",
      "source": [
        "df_right = test_result.loc[test_result['true'] == test_result['pred']]\n",
        "df_wrong = test_result.loc[test_result['true'] != test_result['pred']]"
      ],
      "metadata": {
        "id": "gXS2ntdbTZSg"
      },
      "execution_count": null,
      "outputs": []
    },
    {
      "cell_type": "markdown",
      "source": [
        "Finalmente hacemos una gráfica que nos ayude a vizualizar las probabilidades de predicción para el mejor modelo."
      ],
      "metadata": {
        "id": "EQtpC-P-47AG"
      }
    },
    {
      "cell_type": "code",
      "source": [
        "plt.figure(figsize=(16,4)) \n",
        "plt.scatter(x=df_right.index, y=df_right['uptrend'], color='b', label=\"correct\")\n",
        "plt.scatter(x=df_wrong.index, y=df_wrong['uptrend'], color='r', label=\"incorrect\")\n",
        "plt.hlines(0.5, test_result.index.min(), test_result.index.max(), color='gray', alpha=0.5)\n",
        "plt.xticks(test_result.index, rotation=45)\n",
        "plt.yticks(np.arange(0,1.1, 0.1))\n",
        "plt.title(\"Prediction Probability of Uptrend\")\n",
        "plt.xlabel(\"Date\")\n",
        "plt.ylabel(\"Probability\")\n",
        "plt.legend(loc='center')\n",
        "plt.show()"
      ],
      "metadata": {
        "colab": {
          "base_uri": "https://localhost:8080/",
          "height": 334
        },
        "id": "HrpQ_QnWTdLP",
        "outputId": "8ae679f5-d825-47cc-84ff-031d3d479357"
      },
      "execution_count": null,
      "outputs": [
        {
          "output_type": "display_data",
          "data": {
            "text/plain": [
              "<Figure size 1152x288 with 1 Axes>"
            ],
            "image/png": "[encoded data removed]"
          },
          "metadata": {
            "needs_background": "light"
          }
        }
      ]
    },
    {
      "cell_type": "markdown",
      "source": [
        "# Conclusiones\n",
        "\n",
        "Los modelos de clasificacion nos sirven para comprender el comportamiento del mercado pero sin embargo no son eficientes a la hora de predecir el futuro, por esa razón intentamos modelar un modelo de auto regresion, como el modelo ARIMA\n"
      ],
      "metadata": {
        "id": "B5ILdgz6Tk83"
      }
    }
  ]
}